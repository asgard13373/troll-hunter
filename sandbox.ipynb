{
 "cells": [
  {
   "cell_type": "code",
   "execution_count": 1,
   "metadata": {},
   "outputs": [],
   "source": [
    "import pandas as pd\n",
    "import numpy as np\n",
    "\n",
    "pd.set_option('display.max_colwidth', None)\n",
    "SEED=27"
   ]
  },
  {
   "cell_type": "markdown",
   "metadata": {},
   "source": [
    "## Загрузка сырых данных"
   ]
  },
  {
   "cell_type": "code",
   "execution_count": 2,
   "metadata": {},
   "outputs": [
    {
     "name": "stdout",
     "output_type": "stream",
     "text": [
      "Количество комментариев: 14412\n",
      "Средняя длина комментария: 28 слов\n"
     ]
    },
    {
     "data": {
      "text/html": [
       "<div>\n",
       "<style scoped>\n",
       "    .dataframe tbody tr th:only-of-type {\n",
       "        vertical-align: middle;\n",
       "    }\n",
       "\n",
       "    .dataframe tbody tr th {\n",
       "        vertical-align: top;\n",
       "    }\n",
       "\n",
       "    .dataframe thead th {\n",
       "        text-align: right;\n",
       "    }\n",
       "</style>\n",
       "<table border=\"1\" class=\"dataframe\">\n",
       "  <thead>\n",
       "    <tr style=\"text-align: right;\">\n",
       "      <th></th>\n",
       "      <th>comment</th>\n",
       "      <th>toxic</th>\n",
       "    </tr>\n",
       "  </thead>\n",
       "  <tbody>\n",
       "    <tr>\n",
       "      <th>0</th>\n",
       "      <td>Верблюдов-то за что? Дебилы, бл...\\n</td>\n",
       "      <td>1.0</td>\n",
       "    </tr>\n",
       "    <tr>\n",
       "      <th>1</th>\n",
       "      <td>Хохлы, это отдушина затюканого россиянина, мол, вон, а у хохлов еще хуже. Если бы хохлов не было, кисель их бы придумал.\\n</td>\n",
       "      <td>1.0</td>\n",
       "    </tr>\n",
       "    <tr>\n",
       "      <th>2</th>\n",
       "      <td>Собаке - собачья смерть\\n</td>\n",
       "      <td>1.0</td>\n",
       "    </tr>\n",
       "  </tbody>\n",
       "</table>\n",
       "</div>"
      ],
      "text/plain": [
       "                                                                                                                      comment  \\\n",
       "0                                                                                        Верблюдов-то за что? Дебилы, бл...\\n   \n",
       "1  Хохлы, это отдушина затюканого россиянина, мол, вон, а у хохлов еще хуже. Если бы хохлов не было, кисель их бы придумал.\\n   \n",
       "2                                                                                                   Собаке - собачья смерть\\n   \n",
       "\n",
       "   toxic  \n",
       "0    1.0  \n",
       "1    1.0  \n",
       "2    1.0  "
      ]
     },
     "execution_count": 2,
     "metadata": {},
     "output_type": "execute_result"
    }
   ],
   "source": [
    "def get_mean_words_count(array):\n",
    "    return round(array.apply(lambda sentence: len(sentence.split(' '))).mean())\n",
    "\n",
    "orig_toxic_comments_df = pd.read_csv('data/toxicCommentsOriginalDF.csv')\n",
    "print('Количество комментариев:', len(orig_toxic_comments_df))\n",
    "print('Средняя длина комментария:', get_mean_words_count(orig_toxic_comments_df['comment']), 'слов')\n",
    "orig_toxic_comments_df.head(3)"
   ]
  },
  {
   "cell_type": "markdown",
   "metadata": {},
   "source": [
    "## Split train-validation-test DF"
   ]
  },
  {
   "cell_type": "code",
   "execution_count": 3,
   "metadata": {},
   "outputs": [],
   "source": [
    "df = orig_toxic_comments_df.copy()\n",
    "\n",
    "y = df.pop('toxic')\n",
    "X = np.array(df)"
   ]
  },
  {
   "cell_type": "code",
   "execution_count": 4,
   "metadata": {},
   "outputs": [],
   "source": [
    "from sklearn.model_selection import train_test_split\n",
    "\n",
    "X_train, X_test, y_train, y_test = train_test_split(X, y, test_size=0.2, random_state=SEED)"
   ]
  },
  {
   "cell_type": "markdown",
   "metadata": {},
   "source": [
    "## Train model"
   ]
  },
  {
   "cell_type": "code",
   "execution_count": 5,
   "metadata": {},
   "outputs": [
    {
     "name": "stdout",
     "output_type": "stream",
     "text": [
      "INFO:tensorflow:Enabling eager execution\n",
      "INFO:tensorflow:Enabling v2 tensorshape\n",
      "INFO:tensorflow:Enabling resource variables\n",
      "INFO:tensorflow:Enabling tensor equality\n",
      "INFO:tensorflow:Enabling control flow v2\n",
      "2.5.0-rc0\n"
     ]
    }
   ],
   "source": [
    "import tensorflow as tf\n",
    "\n",
    "from tensorflow.keras.layers.experimental.preprocessing import TextVectorization\n",
    "from tensorflow.keras import layers, losses\n",
    "\n",
    "print(tf.__version__)"
   ]
  },
  {
   "cell_type": "code",
   "execution_count": 6,
   "metadata": {},
   "outputs": [],
   "source": [
    "from textPreprocessing import preprocess_text"
   ]
  },
  {
   "cell_type": "code",
   "execution_count": 7,
   "metadata": {},
   "outputs": [],
   "source": [
    "MAX_FEATURES = 10000\n",
    "MAX_SEQUENCE_LENGTH = get_mean_words_count(df['comment'])\n",
    "\n",
    "\n",
    "def decode_byte_string_to_russian_text(string_tensor):\n",
    "    try:\n",
    "        return string_tensor[0].numpy().decode('utf-8')\n",
    "    except:\n",
    "        return ''\n",
    "\n",
    "def custom_standardization(texts_tensor):    \n",
    "    result = tf.map_fn(fn=lambda x: preprocess_text(decode_byte_string_to_russian_text(x)), elems=texts_tensor)\n",
    "    \n",
    "    return result\n",
    "\n",
    "vectorize_layer = TextVectorization(\n",
    "#     standardize=custom_standardization,\n",
    "    max_tokens=MAX_FEATURES,\n",
    "    output_mode='int',\n",
    "    output_sequence_length=MAX_SEQUENCE_LENGTH\n",
    ")\n",
    "vectorize_layer.adapt(X_train)"
   ]
  },
  {
   "cell_type": "code",
   "execution_count": 8,
   "metadata": {},
   "outputs": [],
   "source": [
    "model = tf.keras.Sequential([\n",
    "    vectorize_layer,\n",
    "    layers.Embedding(\n",
    "        input_dim = len(vectorize_layer.get_vocabulary()),\n",
    "        output_dim = 16\n",
    "    ),\n",
    "    layers.Dropout(0.2),\n",
    "    layers.GlobalAveragePooling1D(),\n",
    "    layers.Dropout(0.2),\n",
    "    layers.Dense(1),\n",
    "    layers.Activation('sigmoid') # то есть в конце мы выдаем уже вероятности\n",
    "])\n",
    "\n",
    "model.compile(\n",
    "    loss=losses.BinaryCrossentropy(from_logits=False),\n",
    "    optimizer='adam',\n",
    "#     metrics=[tf.keras.metrics.Accuracy]\n",
    "    metrics=[tf.keras.metrics.BinaryAccuracy(), tf.keras.metrics.Recall(), tf.keras.metrics.Precision()]\n",
    ")\n"
   ]
  },
  {
   "cell_type": "code",
   "execution_count": 9,
   "metadata": {},
   "outputs": [
    {
     "name": "stdout",
     "output_type": "stream",
     "text": [
      "Epoch 1/20\n",
      "289/289 [==============================] - 2s 3ms/step - loss: 0.6670 - binary_accuracy: 0.6408 - recall: 0.0908 - precision: 0.3639 - val_loss: 0.6094 - val_binary_accuracy: 0.6670 - val_recall: 0.0000e+00 - val_precision: 0.0000e+00\n",
      "Epoch 2/20\n",
      "289/289 [==============================] - 1s 2ms/step - loss: 0.6031 - binary_accuracy: 0.6594 - recall: 0.0115 - precision: 0.6220 - val_loss: 0.5646 - val_binary_accuracy: 0.6821 - val_recall: 0.0521 - val_precision: 0.8889\n",
      "Epoch 3/20\n",
      "289/289 [==============================] - 1s 2ms/step - loss: 0.5544 - binary_accuracy: 0.7178 - recall: 0.2404 - precision: 0.8281 - val_loss: 0.5210 - val_binary_accuracy: 0.7632 - val_recall: 0.3477 - val_precision: 0.8558\n",
      "Epoch 4/20\n",
      "289/289 [==============================] - 1s 2ms/step - loss: 0.4961 - binary_accuracy: 0.7722 - recall: 0.4155 - precision: 0.8399 - val_loss: 0.4825 - val_binary_accuracy: 0.7962 - val_recall: 0.5039 - val_precision: 0.8130\n",
      "Epoch 5/20\n",
      "289/289 [==============================] - 1s 2ms/step - loss: 0.4474 - binary_accuracy: 0.8206 - recall: 0.5777 - precision: 0.8441 - val_loss: 0.4532 - val_binary_accuracy: 0.8023 - val_recall: 0.5104 - val_precision: 0.8305\n",
      "Epoch 6/20\n",
      "289/289 [==============================] - 1s 2ms/step - loss: 0.4033 - binary_accuracy: 0.8467 - recall: 0.6617 - precision: 0.8508 - val_loss: 0.4297 - val_binary_accuracy: 0.8183 - val_recall: 0.5938 - val_precision: 0.8099\n",
      "Epoch 7/20\n",
      "289/289 [==============================] - 1s 2ms/step - loss: 0.3625 - binary_accuracy: 0.8682 - recall: 0.7094 - precision: 0.8697 - val_loss: 0.4127 - val_binary_accuracy: 0.8192 - val_recall: 0.5833 - val_precision: 0.8220\n",
      "Epoch 8/20\n",
      "289/289 [==============================] - 1s 2ms/step - loss: 0.3379 - binary_accuracy: 0.8847 - recall: 0.7626 - precision: 0.8853 - val_loss: 0.3979 - val_binary_accuracy: 0.8317 - val_recall: 0.6484 - val_precision: 0.8084\n",
      "Epoch 9/20\n",
      "289/289 [==============================] - 1s 2ms/step - loss: 0.3067 - binary_accuracy: 0.8968 - recall: 0.7935 - precision: 0.8841 - val_loss: 0.3879 - val_binary_accuracy: 0.8391 - val_recall: 0.7083 - val_precision: 0.7873\n",
      "Epoch 10/20\n",
      "289/289 [==============================] - 1s 2ms/step - loss: 0.2880 - binary_accuracy: 0.9061 - recall: 0.8415 - precision: 0.8811 - val_loss: 0.3796 - val_binary_accuracy: 0.8408 - val_recall: 0.7214 - val_precision: 0.7836\n",
      "Epoch 11/20\n",
      "289/289 [==============================] - 1s 2ms/step - loss: 0.2623 - binary_accuracy: 0.9162 - recall: 0.8446 - precision: 0.8941 - val_loss: 0.3735 - val_binary_accuracy: 0.8448 - val_recall: 0.7188 - val_precision: 0.7954\n",
      "Epoch 12/20\n",
      "289/289 [==============================] - 1s 2ms/step - loss: 0.2444 - binary_accuracy: 0.9217 - recall: 0.8660 - precision: 0.8975 - val_loss: 0.3694 - val_binary_accuracy: 0.8430 - val_recall: 0.7487 - val_precision: 0.7728\n",
      "Epoch 13/20\n",
      "289/289 [==============================] - 1s 2ms/step - loss: 0.2351 - binary_accuracy: 0.9255 - recall: 0.8872 - precision: 0.8949 - val_loss: 0.3662 - val_binary_accuracy: 0.8465 - val_recall: 0.7083 - val_precision: 0.8071\n",
      "Epoch 14/20\n",
      "289/289 [==============================] - 1s 2ms/step - loss: 0.2149 - binary_accuracy: 0.9295 - recall: 0.8774 - precision: 0.9082 - val_loss: 0.3656 - val_binary_accuracy: 0.8478 - val_recall: 0.7773 - val_precision: 0.7683\n",
      "Epoch 15/20\n",
      "289/289 [==============================] - 1s 2ms/step - loss: 0.2072 - binary_accuracy: 0.9327 - recall: 0.9006 - precision: 0.8997 - val_loss: 0.3635 - val_binary_accuracy: 0.8495 - val_recall: 0.7487 - val_precision: 0.7888\n",
      "Epoch 16/20\n",
      "289/289 [==============================] - 1s 2ms/step - loss: 0.1836 - binary_accuracy: 0.9447 - recall: 0.9210 - precision: 0.9138 - val_loss: 0.3636 - val_binary_accuracy: 0.8487 - val_recall: 0.7409 - val_precision: 0.7914\n",
      "Epoch 17/20\n",
      "289/289 [==============================] - 1s 2ms/step - loss: 0.1785 - binary_accuracy: 0.9434 - recall: 0.9140 - precision: 0.9174 - val_loss: 0.3661 - val_binary_accuracy: 0.8521 - val_recall: 0.7839 - val_precision: 0.7748\n",
      "Epoch 18/20\n",
      "289/289 [==============================] - 1s 2ms/step - loss: 0.1700 - binary_accuracy: 0.9476 - recall: 0.9256 - precision: 0.9204 - val_loss: 0.3660 - val_binary_accuracy: 0.8526 - val_recall: 0.7552 - val_precision: 0.7923\n",
      "Epoch 19/20\n",
      "289/289 [==============================] - 1s 2ms/step - loss: 0.1625 - binary_accuracy: 0.9530 - recall: 0.9303 - precision: 0.9281 - val_loss: 0.3684 - val_binary_accuracy: 0.8517 - val_recall: 0.7448 - val_precision: 0.7967\n",
      "Epoch 20/20\n",
      "289/289 [==============================] - 1s 2ms/step - loss: 0.1477 - binary_accuracy: 0.9551 - recall: 0.9333 - precision: 0.9304 - val_loss: 0.3714 - val_binary_accuracy: 0.8526 - val_recall: 0.7591 - val_precision: 0.7900\n"
     ]
    }
   ],
   "source": [
    "epochs = 20\n",
    "history = model.fit(\n",
    "    x=X_train,\n",
    "    y=y_train,\n",
    "    epochs=epochs,\n",
    "    validation_split=0.2, # сколько от тестовой выборки отрезать под валидационную\n",
    ")"
   ]
  },
  {
   "cell_type": "code",
   "execution_count": 10,
   "metadata": {},
   "outputs": [
    {
     "name": "stdout",
     "output_type": "stream",
     "text": [
      "91/91 [==============================] - 0s 970us/step - loss: 0.3521 - binary_accuracy: 0.8599 - recall: 0.7715 - precision: 0.7983\n",
      "Loss:  0.3521120250225067\n",
      "Accuracy:  0.8598681688308716\n",
      "Recall:  0.7714884877204895\n",
      "Precision:  0.7982646226882935\n"
     ]
    }
   ],
   "source": [
    "loss, accuracy, recall, precision = model.evaluate(x=X_test, y=y_test)\n",
    "\n",
    "print(\"Loss: \", loss)\n",
    "print(\"Accuracy: \", accuracy)\n",
    "print(\"Recall: \", recall)\n",
    "print(\"Precision: \", precision)"
   ]
  },
  {
   "cell_type": "code",
   "execution_count": 11,
   "metadata": {},
   "outputs": [
    {
     "data": {
      "text/plain": [
       "<tf.Tensor: shape=(2, 2), dtype=int32, numpy=\n",
       "array([[1743,  186],\n",
       "       [ 218,  736]], dtype=int32)>"
      ]
     },
     "execution_count": 11,
     "metadata": {},
     "output_type": "execute_result"
    }
   ],
   "source": [
    "tf.math.confusion_matrix(labels=y_test, predictions=(model.predict(X_test) > 0.5) * 1)"
   ]
  }
 ],
 "metadata": {
  "kernelspec": {
   "display_name": "Python 3",
   "language": "python",
   "name": "python3"
  },
  "language_info": {
   "codemirror_mode": {
    "name": "ipython",
    "version": 3
   },
   "file_extension": ".py",
   "mimetype": "text/x-python",
   "name": "python",
   "nbconvert_exporter": "python",
   "pygments_lexer": "ipython3",
   "version": "3.9.0"
  }
 },
 "nbformat": 4,
 "nbformat_minor": 4
}
