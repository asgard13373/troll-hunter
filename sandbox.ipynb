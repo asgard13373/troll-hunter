{
 "cells": [
  {
   "cell_type": "code",
   "execution_count": 1,
   "metadata": {},
   "outputs": [],
   "source": [
    "import pandas as pd\n",
    "import numpy as np\n",
    "\n",
    "pd.set_option('display.max_colwidth', None)\n",
    "SEED=27"
   ]
  },
  {
   "cell_type": "markdown",
   "metadata": {},
   "source": [
    "## Загрузка сырых данных"
   ]
  },
  {
   "cell_type": "code",
   "execution_count": 2,
   "metadata": {},
   "outputs": [
    {
     "name": "stdout",
     "output_type": "stream",
     "text": [
      "Количество комментариев: 14412\n",
      "75% всех комментариев не больше 32 слов в длину\n"
     ]
    },
    {
     "data": {
      "text/html": [
       "<div>\n",
       "<style scoped>\n",
       "    .dataframe tbody tr th:only-of-type {\n",
       "        vertical-align: middle;\n",
       "    }\n",
       "\n",
       "    .dataframe tbody tr th {\n",
       "        vertical-align: top;\n",
       "    }\n",
       "\n",
       "    .dataframe thead th {\n",
       "        text-align: right;\n",
       "    }\n",
       "</style>\n",
       "<table border=\"1\" class=\"dataframe\">\n",
       "  <thead>\n",
       "    <tr style=\"text-align: right;\">\n",
       "      <th></th>\n",
       "      <th>comment</th>\n",
       "      <th>toxic</th>\n",
       "    </tr>\n",
       "  </thead>\n",
       "  <tbody>\n",
       "    <tr>\n",
       "      <th>0</th>\n",
       "      <td>Верблюдов-то за что? Дебилы, бл...\\n</td>\n",
       "      <td>1.0</td>\n",
       "    </tr>\n",
       "    <tr>\n",
       "      <th>1</th>\n",
       "      <td>Хохлы, это отдушина затюканого россиянина, мол, вон, а у хохлов еще хуже. Если бы хохлов не было, кисель их бы придумал.\\n</td>\n",
       "      <td>1.0</td>\n",
       "    </tr>\n",
       "    <tr>\n",
       "      <th>2</th>\n",
       "      <td>Собаке - собачья смерть\\n</td>\n",
       "      <td>1.0</td>\n",
       "    </tr>\n",
       "  </tbody>\n",
       "</table>\n",
       "</div>"
      ],
      "text/plain": [
       "                                                                                                                      comment  \\\n",
       "0                                                                                        Верблюдов-то за что? Дебилы, бл...\\n   \n",
       "1  Хохлы, это отдушина затюканого россиянина, мол, вон, а у хохлов еще хуже. Если бы хохлов не было, кисель их бы придумал.\\n   \n",
       "2                                                                                                   Собаке - собачья смерть\\n   \n",
       "\n",
       "   toxic  \n",
       "0    1.0  \n",
       "1    1.0  \n",
       "2    1.0  "
      ]
     },
     "execution_count": 2,
     "metadata": {},
     "output_type": "execute_result"
    }
   ],
   "source": [
    "def get_3d_quartile_words_count(sentences_array):\n",
    "    \"\"\"\n",
    "    Получает массив строк/предложений.\n",
    "    Отдает число N.\n",
    "    75% всех предложений данного массива не превышают N слов в длину.\n",
    "    \"\"\"\n",
    "    def count_words(sentence):\n",
    "        return len(sentence.split(' '))\n",
    "        \n",
    "    \n",
    "    return round(\n",
    "        np.percentile(sentences_array.apply(count_words), 75)\n",
    "    )\n",
    "\n",
    "orig_toxic_comments_df = pd.read_csv('data/toxicCommentsOriginalDF.csv')\n",
    "print('Количество комментариев:', len(orig_toxic_comments_df))\n",
    "print(f\"75% всех комментариев не больше {get_3d_quartile_words_count(orig_toxic_comments_df['comment'])} слов в длину\")\n",
    "orig_toxic_comments_df.head(3)"
   ]
  },
  {
   "cell_type": "markdown",
   "metadata": {},
   "source": [
    "## Split train-validation-test DF"
   ]
  },
  {
   "cell_type": "code",
   "execution_count": 3,
   "metadata": {},
   "outputs": [],
   "source": [
    "df = orig_toxic_comments_df.copy()\n",
    "\n",
    "y = df.pop('toxic')\n",
    "X = np.array(df)"
   ]
  },
  {
   "cell_type": "code",
   "execution_count": 4,
   "metadata": {},
   "outputs": [],
   "source": [
    "from sklearn.model_selection import train_test_split\n",
    "\n",
    "X_train, X_test, y_train, y_test = train_test_split(X, y, test_size=0.2, random_state=SEED)"
   ]
  },
  {
   "cell_type": "markdown",
   "metadata": {},
   "source": [
    "## Train model"
   ]
  },
  {
   "cell_type": "code",
   "execution_count": 5,
   "metadata": {},
   "outputs": [
    {
     "name": "stdout",
     "output_type": "stream",
     "text": [
      "INFO:tensorflow:Enabling eager execution\n",
      "INFO:tensorflow:Enabling v2 tensorshape\n",
      "INFO:tensorflow:Enabling resource variables\n",
      "INFO:tensorflow:Enabling tensor equality\n",
      "INFO:tensorflow:Enabling control flow v2\n",
      "2.5.0-rc0\n"
     ]
    }
   ],
   "source": [
    "import tensorflow as tf\n",
    "\n",
    "from tensorflow.keras.layers.experimental.preprocessing import TextVectorization\n",
    "from tensorflow.keras import layers, losses\n",
    "\n",
    "print(tf.__version__)"
   ]
  },
  {
   "cell_type": "code",
   "execution_count": 6,
   "metadata": {},
   "outputs": [],
   "source": [
    "from textPreprocessing import preprocess_text"
   ]
  },
  {
   "cell_type": "code",
   "execution_count": 7,
   "metadata": {},
   "outputs": [],
   "source": [
    "MAX_FEATURES = 10000\n",
    "MAX_SEQUENCE_LENGTH = get_3d_quartile_words_count(df['comment'])\n",
    "\n",
    "\n",
    "def decode_byte_string_to_russian_text(string_tensor):\n",
    "    try:\n",
    "        return string_tensor[0].numpy().decode('utf-8')\n",
    "    except:\n",
    "        return ''\n",
    "\n",
    "def custom_standardization(texts_tensor):    \n",
    "    result = tf.map_fn(fn=lambda x: preprocess_text(decode_byte_string_to_russian_text(x)), elems=texts_tensor)\n",
    "    \n",
    "    return result\n",
    "\n",
    "vectorize_layer = TextVectorization(\n",
    "#     standardize=custom_standardization,\n",
    "    max_tokens=MAX_FEATURES,\n",
    "    output_mode='int',\n",
    "    output_sequence_length=MAX_SEQUENCE_LENGTH\n",
    ")\n",
    "vectorize_layer.adapt(X_train)"
   ]
  },
  {
   "cell_type": "code",
   "execution_count": 8,
   "metadata": {},
   "outputs": [],
   "source": [
    "model = tf.keras.Sequential([\n",
    "    vectorize_layer,\n",
    "    layers.Embedding(\n",
    "        input_dim = len(vectorize_layer.get_vocabulary()),\n",
    "        output_dim = 16\n",
    "    ),\n",
    "    layers.Dropout(0.2),\n",
    "    layers.GlobalAveragePooling1D(),\n",
    "    layers.Dropout(0.2),\n",
    "    layers.Dense(1),\n",
    "    layers.Activation('sigmoid') # то есть в конце мы выдаем уже вероятности\n",
    "])\n",
    "\n",
    "model.compile(\n",
    "    loss=losses.BinaryCrossentropy(from_logits=False),\n",
    "    optimizer='adam',\n",
    "#     metrics=[tf.keras.metrics.Accuracy]\n",
    "    metrics=[tf.keras.metrics.BinaryAccuracy(), tf.keras.metrics.Recall(), tf.keras.metrics.Precision()]\n",
    ")\n"
   ]
  },
  {
   "cell_type": "code",
   "execution_count": 9,
   "metadata": {},
   "outputs": [
    {
     "name": "stdout",
     "output_type": "stream",
     "text": [
      "Epoch 1/20\n",
      "289/289 [==============================] - 2s 3ms/step - loss: 0.6691 - binary_accuracy: 0.6562 - recall: 0.0252 - precision: 0.3903 - val_loss: 0.6173 - val_binary_accuracy: 0.6670 - val_recall: 0.0000e+00 - val_precision: 0.0000e+00\n",
      "Epoch 2/20\n",
      "289/289 [==============================] - 1s 2ms/step - loss: 0.6103 - binary_accuracy: 0.6611 - recall: 0.0020 - precision: 0.3486 - val_loss: 0.5768 - val_binary_accuracy: 0.6722 - val_recall: 0.0195 - val_precision: 0.8333\n",
      "Epoch 3/20\n",
      "289/289 [==============================] - 1s 2ms/step - loss: 0.5657 - binary_accuracy: 0.6868 - recall: 0.0804 - precision: 0.9275 - val_loss: 0.5372 - val_binary_accuracy: 0.7559 - val_recall: 0.3346 - val_precision: 0.8317\n",
      "Epoch 4/20\n",
      "289/289 [==============================] - 1s 2ms/step - loss: 0.5144 - binary_accuracy: 0.7635 - recall: 0.3614 - precision: 0.8655 - val_loss: 0.4986 - val_binary_accuracy: 0.7827 - val_recall: 0.4193 - val_precision: 0.8541\n",
      "Epoch 5/20\n",
      "289/289 [==============================] - 1s 2ms/step - loss: 0.4602 - binary_accuracy: 0.8022 - recall: 0.4753 - precision: 0.8646 - val_loss: 0.4677 - val_binary_accuracy: 0.8105 - val_recall: 0.5612 - val_precision: 0.8117\n",
      "Epoch 6/20\n",
      "289/289 [==============================] - 1s 2ms/step - loss: 0.4117 - binary_accuracy: 0.8454 - recall: 0.6470 - precision: 0.8542 - val_loss: 0.4441 - val_binary_accuracy: 0.8114 - val_recall: 0.5612 - val_precision: 0.8147\n",
      "Epoch 7/20\n",
      "289/289 [==============================] - 1s 2ms/step - loss: 0.3857 - binary_accuracy: 0.8491 - recall: 0.6613 - precision: 0.8648 - val_loss: 0.4245 - val_binary_accuracy: 0.8239 - val_recall: 0.6094 - val_precision: 0.8153\n",
      "Epoch 8/20\n",
      "289/289 [==============================] - 1s 2ms/step - loss: 0.3465 - binary_accuracy: 0.8733 - recall: 0.7253 - precision: 0.8695 - val_loss: 0.4101 - val_binary_accuracy: 0.8326 - val_recall: 0.6706 - val_precision: 0.7948\n",
      "Epoch 9/20\n",
      "289/289 [==============================] - 1s 2ms/step - loss: 0.3273 - binary_accuracy: 0.8885 - recall: 0.7884 - precision: 0.8677 - val_loss: 0.3981 - val_binary_accuracy: 0.8365 - val_recall: 0.6732 - val_precision: 0.8040\n",
      "Epoch 10/20\n",
      "289/289 [==============================] - 1s 2ms/step - loss: 0.3047 - binary_accuracy: 0.8958 - recall: 0.8115 - precision: 0.8717 - val_loss: 0.3890 - val_binary_accuracy: 0.8382 - val_recall: 0.6797 - val_precision: 0.8043\n",
      "Epoch 11/20\n",
      "289/289 [==============================] - 1s 2ms/step - loss: 0.2786 - binary_accuracy: 0.9100 - recall: 0.8343 - precision: 0.8931 - val_loss: 0.3828 - val_binary_accuracy: 0.8404 - val_recall: 0.6745 - val_precision: 0.8145\n",
      "Epoch 12/20\n",
      "289/289 [==============================] - 1s 2ms/step - loss: 0.2582 - binary_accuracy: 0.9180 - recall: 0.8525 - precision: 0.8979 - val_loss: 0.3773 - val_binary_accuracy: 0.8426 - val_recall: 0.7227 - val_precision: 0.7872\n",
      "Epoch 13/20\n",
      "289/289 [==============================] - 1s 2ms/step - loss: 0.2459 - binary_accuracy: 0.9169 - recall: 0.8570 - precision: 0.8874 - val_loss: 0.3742 - val_binary_accuracy: 0.8448 - val_recall: 0.6823 - val_precision: 0.8213\n",
      "Epoch 14/20\n",
      "289/289 [==============================] - 1s 2ms/step - loss: 0.2233 - binary_accuracy: 0.9302 - recall: 0.8798 - precision: 0.9084 - val_loss: 0.3708 - val_binary_accuracy: 0.8469 - val_recall: 0.6966 - val_precision: 0.8168\n",
      "Epoch 15/20\n",
      "289/289 [==============================] - 1s 2ms/step - loss: 0.2157 - binary_accuracy: 0.9289 - recall: 0.8808 - precision: 0.9037 - val_loss: 0.3680 - val_binary_accuracy: 0.8487 - val_recall: 0.7240 - val_precision: 0.8023\n",
      "Epoch 16/20\n",
      "289/289 [==============================] - 1s 2ms/step - loss: 0.2037 - binary_accuracy: 0.9336 - recall: 0.9005 - precision: 0.9026 - val_loss: 0.3676 - val_binary_accuracy: 0.8487 - val_recall: 0.7565 - val_precision: 0.7820\n",
      "Epoch 17/20\n",
      "289/289 [==============================] - 1s 2ms/step - loss: 0.1889 - binary_accuracy: 0.9423 - recall: 0.9089 - precision: 0.9188 - val_loss: 0.3677 - val_binary_accuracy: 0.8500 - val_recall: 0.7227 - val_precision: 0.8067\n",
      "Epoch 18/20\n",
      "289/289 [==============================] - 1s 2ms/step - loss: 0.1795 - binary_accuracy: 0.9447 - recall: 0.9100 - precision: 0.9248 - val_loss: 0.3685 - val_binary_accuracy: 0.8526 - val_recall: 0.7318 - val_precision: 0.8075\n",
      "Epoch 19/20\n",
      "289/289 [==============================] - 1s 2ms/step - loss: 0.1711 - binary_accuracy: 0.9468 - recall: 0.9210 - precision: 0.9243 - val_loss: 0.3708 - val_binary_accuracy: 0.8504 - val_recall: 0.7214 - val_precision: 0.8088\n",
      "Epoch 20/20\n",
      "289/289 [==============================] - 1s 2ms/step - loss: 0.1586 - binary_accuracy: 0.9547 - recall: 0.9356 - precision: 0.9290 - val_loss: 0.3718 - val_binary_accuracy: 0.8517 - val_recall: 0.7500 - val_precision: 0.7934\n"
     ]
    }
   ],
   "source": [
    "epochs = 20\n",
    "history = model.fit(\n",
    "    x=X_train,\n",
    "    y=y_train,\n",
    "    epochs=epochs,\n",
    "    validation_split=0.2, # сколько от тестовой выборки отрезать под валидационную\n",
    ")"
   ]
  },
  {
   "cell_type": "code",
   "execution_count": 10,
   "metadata": {},
   "outputs": [
    {
     "name": "stdout",
     "output_type": "stream",
     "text": [
      "91/91 [==============================] - 0s 903us/step - loss: 0.3499 - binary_accuracy: 0.8661 - recall: 0.7746 - precision: 0.8121\n",
      "Loss:  0.3498672842979431\n",
      "Accuracy:  0.866111695766449\n",
      "Recall:  0.7746331095695496\n",
      "Precision:  0.812087893486023\n"
     ]
    }
   ],
   "source": [
    "loss, accuracy, recall, precision = model.evaluate(x=X_test, y=y_test)\n",
    "\n",
    "print(\"Loss: \", loss)\n",
    "print(\"Accuracy: \", accuracy)\n",
    "print(\"Recall: \", recall)\n",
    "print(\"Precision: \", precision)"
   ]
  },
  {
   "cell_type": "code",
   "execution_count": 11,
   "metadata": {},
   "outputs": [
    {
     "data": {
      "text/plain": [
       "<tf.Tensor: shape=(2, 2), dtype=int32, numpy=\n",
       "array([[1758,  171],\n",
       "       [ 215,  739]], dtype=int32)>"
      ]
     },
     "execution_count": 11,
     "metadata": {},
     "output_type": "execute_result"
    }
   ],
   "source": [
    "tf.math.confusion_matrix(labels=y_test, predictions=(model.predict(X_test) > 0.5) * 1)"
   ]
  }
 ],
 "metadata": {
  "kernelspec": {
   "display_name": "Python 3",
   "language": "python",
   "name": "python3"
  },
  "language_info": {
   "codemirror_mode": {
    "name": "ipython",
    "version": 3
   },
   "file_extension": ".py",
   "mimetype": "text/x-python",
   "name": "python",
   "nbconvert_exporter": "python",
   "pygments_lexer": "ipython3",
   "version": "3.9.0"
  }
 },
 "nbformat": 4,
 "nbformat_minor": 4
}
