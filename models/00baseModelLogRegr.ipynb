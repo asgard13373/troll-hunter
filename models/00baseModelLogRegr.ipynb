{
 "cells": [
  {
   "cell_type": "code",
   "execution_count": 1,
   "id": "28ec6110",
   "metadata": {},
   "outputs": [
    {
     "name": "stdout",
     "output_type": "stream",
     "text": [
      "/Users/n.barsukov/PycharmProjects/toxic-comments-detector\n"
     ]
    }
   ],
   "source": [
    "cd .."
   ]
  },
  {
   "cell_type": "code",
   "execution_count": 2,
   "id": "c6c15917",
   "metadata": {},
   "outputs": [
    {
     "name": "stdout",
     "output_type": "stream",
     "text": [
      "Python version: 3.8.9 (default, Apr  3 2021, 01:50:09) \n",
      "[Clang 12.0.0 (clang-1200.0.32.29)]\n",
      "Sklearn version: 0.24.1\n"
     ]
    }
   ],
   "source": [
    "import sys\n",
    "import sklearn\n",
    "import nltk\n",
    "\n",
    "# local (this repo) imports\n",
    "from dev import (\n",
    "    load_cleaned_russian_text_data,\n",
    "    evaluate_model,\n",
    "    SEED\n",
    ")\n",
    "\n",
    "\n",
    "print('Python version:', sys.version)\n",
    "print('Sklearn version:', sklearn.__version__)"
   ]
  },
  {
   "cell_type": "markdown",
   "id": "6ef54d06",
   "metadata": {},
   "source": [
    "# Word Vectorizer"
   ]
  },
  {
   "cell_type": "code",
   "execution_count": 3,
   "id": "1fba1165",
   "metadata": {},
   "outputs": [],
   "source": [
    "X_train, X_test, y_train, y_test = load_cleaned_russian_text_data()"
   ]
  },
  {
   "cell_type": "code",
   "execution_count": 4,
   "id": "9bcb5048",
   "metadata": {},
   "outputs": [],
   "source": [
    "from sklearn.feature_extraction.text import CountVectorizer\n",
    "from nltk.corpus import stopwords\n",
    "\n",
    "# nltk.download('stopwords')\n",
    "\n",
    "vectorizer = CountVectorizer(\n",
    "    min_df=3,\n",
    "    stop_words=stopwords.words('russian')\n",
    ")\n",
    "\n",
    "vectorizer.fit(X_train.flatten());"
   ]
  },
  {
   "cell_type": "code",
   "execution_count": 5,
   "id": "798d1346",
   "metadata": {},
   "outputs": [],
   "source": [
    "X_train = vectorizer.transform(X_train.flatten())\n",
    "\n",
    "X_test = vectorizer.transform(X_test.flatten())"
   ]
  },
  {
   "cell_type": "markdown",
   "id": "9074b638",
   "metadata": {},
   "source": [
    "# Build Logistic Regression"
   ]
  },
  {
   "cell_type": "code",
   "execution_count": 6,
   "id": "bfa30111",
   "metadata": {},
   "outputs": [],
   "source": [
    "from sklearn.linear_model import LogisticRegression\n",
    "\n",
    "model = LogisticRegression()\n",
    "model.fit(X_train, y_train);"
   ]
  },
  {
   "cell_type": "markdown",
   "id": "79425456",
   "metadata": {},
   "source": [
    "# Model evaluation"
   ]
  },
  {
   "cell_type": "code",
   "execution_count": 7,
   "id": "46136b8a",
   "metadata": {},
   "outputs": [
    {
     "name": "stdout",
     "output_type": "stream",
     "text": [
      "Accuracy: 86.75%\n",
      "Recall: 71.38%\n",
      "Precision: 86.2%\n",
      "F1-score: 78.1% \n",
      "\n"
     ]
    },
    {
     "data": {
      "image/png": "[encoded data removed]",
      "text/plain": [
       "<Figure size 360x360 with 2 Axes>"
      ]
     },
     "metadata": {
      "needs_background": "light"
     },
     "output_type": "display_data"
    }
   ],
   "source": [
    "y_test_pred = (model.predict(X_test).flatten() > 0.5) * 1\n",
    "\n",
    "evaluate_model(y_test, y_test_pred)"
   ]
  }
 ],
 "metadata": {
  "kernelspec": {
   "display_name": "Python 3",
   "language": "python",
   "name": "python3"
  },
  "language_info": {
   "codemirror_mode": {
    "name": "ipython",
    "version": 3
   },
   "file_extension": ".py",
   "mimetype": "text/x-python",
   "name": "python",
   "nbconvert_exporter": "python",
   "pygments_lexer": "ipython3",
   "version": "3.8.9"
  }
 },
 "nbformat": 4,
 "nbformat_minor": 5
}
