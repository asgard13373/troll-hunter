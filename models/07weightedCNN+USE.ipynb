{
 "cells": [
  {
   "cell_type": "code",
   "execution_count": 1,
   "id": "28ec6110",
   "metadata": {},
   "outputs": [
    {
     "name": "stdout",
     "output_type": "stream",
     "text": [
      "/Users/n.barsukov/PycharmProjects/toxic-comments-detector\n"
     ]
    }
   ],
   "source": [
    "cd .."
   ]
  },
  {
   "cell_type": "code",
   "execution_count": 2,
   "id": "c6c15917",
   "metadata": {},
   "outputs": [
    {
     "name": "stdout",
     "output_type": "stream",
     "text": [
      "Python version: 3.8.9 (default, Apr  3 2021, 01:50:09) \n",
      "[Clang 12.0.0 (clang-1200.0.32.29)]\n",
      "Tensorflow version: 2.4.1\n"
     ]
    }
   ],
   "source": [
    "import sys\n",
    "import tensorflow as tf\n",
    "import numpy as np\n",
    "\n",
    "# local (this repo) imports\n",
    "from dev import (\n",
    "    load_cleaned_russian_text_data,\n",
    "    get_class_weights,\n",
    "    get_initial_output_bias,\n",
    "    evaluate_model,\n",
    "    SEED\n",
    ")\n",
    "from wordEmbeddingsLayers import create_universal_sentence_encoder_layer, USE_SENTENCE_EMBEDDING_DIMENSION\n",
    "\n",
    "tf.random.set_seed(SEED)\n",
    "\n",
    "print('Python version:', sys.version)\n",
    "print('Tensorflow version:', tf.__version__)"
   ]
  },
  {
   "cell_type": "markdown",
   "id": "9074b638",
   "metadata": {},
   "source": [
    "# Build CNN model"
   ]
  },
  {
   "cell_type": "code",
   "execution_count": 3,
   "id": "1fba1165",
   "metadata": {},
   "outputs": [],
   "source": [
    "X_train, X_test, y_train, y_test = load_cleaned_russian_text_data()"
   ]
  },
  {
   "cell_type": "code",
   "execution_count": 4,
   "id": "bfa30111",
   "metadata": {},
   "outputs": [],
   "source": [
    "from tensorflow.keras import layers, losses\n",
    "\n",
    "negative_class_amount, pos_class_amount = np.bincount(y_train)\n",
    "\n",
    "initial_output_bias = tf.keras.initializers.Constant(\n",
    "    get_initial_output_bias(pos_class_amount, negative_class_amount)\n",
    ")\n",
    "\n",
    "early_stopping = tf.keras.callbacks.EarlyStopping(\n",
    "    monitor='val_loss',\n",
    "    mode='min',\n",
    "    patience=2,\n",
    "    verbose=1,\n",
    "    restore_best_weights=False\n",
    ")\n",
    "\n",
    "model = tf.keras.Sequential([\n",
    "    layers.Input(shape=[], dtype=tf.string),\n",
    "    create_universal_sentence_encoder_layer(),\n",
    "    \n",
    "    layers.Reshape((USE_SENTENCE_EMBEDDING_DIMENSION, 1)),\n",
    "    layers.Conv1D(filters=128, kernel_size=5, activation='relu'),\n",
    "    layers.GlobalMaxPool1D(),\n",
    "    \n",
    "    layers.Dense(units=128, activation='relu'),\n",
    "    layers.Dropout(rate=0.5, seed=SEED),\n",
    "    layers.Dense(units=1, bias_initializer=initial_output_bias),\n",
    "    layers.Activation('sigmoid') # то есть в конце мы выдаем уже вероятности\n",
    "])\n",
    "\n",
    "model.compile(\n",
    "    loss=losses.BinaryCrossentropy(from_logits=False), # from_logits=False, т.к. на выходе layers.Activation('sigmoid')\n",
    "    optimizer='adam',\n",
    "    metrics=[tf.keras.metrics.BinaryAccuracy(), tf.keras.metrics.Recall(), tf.keras.metrics.Precision()]\n",
    ")"
   ]
  },
  {
   "cell_type": "code",
   "execution_count": null,
   "id": "6189502e",
   "metadata": {},
   "outputs": [
    {
     "name": "stdout",
     "output_type": "stream",
     "text": [
      "Epoch 1/10\n",
      "19/19 [==============================] - 55s 2s/step - loss: 0.7332 - binary_accuracy: 0.6640 - recall: 0.0396 - precision: 0.3926 - val_loss: 0.6181 - val_binary_accuracy: 0.8677 - val_recall: 0.8138 - val_precision: 0.7942\n",
      "Epoch 2/10\n",
      "19/19 [==============================] - 43s 2s/step - loss: 0.5823 - binary_accuracy: 0.8723 - recall: 0.8605 - precision: 0.7853 - val_loss: 0.6047 - val_binary_accuracy: 0.8105 - val_recall: 0.9453 - val_precision: 0.6476\n",
      "Epoch 3/10\n",
      "19/19 [==============================] - 43s 2s/step - loss: 0.4441 - binary_accuracy: 0.9078 - recall: 0.9281 - precision: 0.8221 - val_loss: 0.4404 - val_binary_accuracy: 0.8920 - val_recall: 0.8047 - val_precision: 0.8619\n",
      "Epoch 4/10\n",
      "19/19 [==============================] - 43s 2s/step - loss: 0.3180 - binary_accuracy: 0.9430 - recall: 0.9298 - precision: 0.9056 - val_loss: 0.4627 - val_binary_accuracy: 0.8951 - val_recall: 0.8776 - val_precision: 0.8200\n",
      "Epoch 5/10\n",
      "19/19 [==============================] - 44s 2s/step - loss: 0.2661 - binary_accuracy: 0.9609 - recall: 0.9492 - precision: 0.9353 - val_loss: 0.5237 - val_binary_accuracy: 0.8807 - val_recall: 0.9128 - val_precision: 0.7712\n",
      "Epoch 6/10\n",
      "19/19 [==============================] - 46s 2s/step - loss: 0.2164 - binary_accuracy: 0.9700 - recall: 0.9573 - precision: 0.9541 - val_loss: 0.4738 - val_binary_accuracy: 0.8846 - val_recall: 0.8854 - val_precision: 0.7925\n",
      "Epoch 7/10\n",
      "19/19 [==============================] - 47s 2s/step - loss: 0.1664 - binary_accuracy: 0.9796 - recall: 0.9634 - precision: 0.9758 - val_loss: 0.3990 - val_binary_accuracy: 0.8886 - val_recall: 0.8112 - val_precision: 0.8476\n",
      "Epoch 8/10\n",
      "19/19 [==============================] - 47s 2s/step - loss: 0.1161 - binary_accuracy: 0.9857 - recall: 0.9661 - precision: 0.9915 - val_loss: 0.3828 - val_binary_accuracy: 0.8959 - val_recall: 0.8359 - val_precision: 0.8492\n",
      "Epoch 9/10\n",
      "19/19 [==============================] - 47s 2s/step - loss: 0.0963 - binary_accuracy: 0.9841 - recall: 0.9634 - precision: 0.9886 - val_loss: 0.4263 - val_binary_accuracy: 0.8925 - val_recall: 0.8411 - val_precision: 0.8368\n",
      "Epoch 10/10\n",
      " 4/19 [=====>........................] - ETA: 36s - loss: 0.0905 - binary_accuracy: 0.9872 - recall: 0.9695 - precision: 0.9939"
     ]
    }
   ],
   "source": [
    "epochs = 10\n",
    "history = model.fit(\n",
    "    x=X_train,\n",
    "    y=y_train,\n",
    "    epochs=epochs,\n",
    "    batch_size=2**9,\n",
    "    validation_split=0.2, # сколько от тестовой выборки отрезать под валидационную\n",
    "#     callbacks=[early_stopping],\n",
    "    class_weight=get_class_weights(pos_class_amount, negative_class_amount),\n",
    ")"
   ]
  },
  {
   "cell_type": "markdown",
   "id": "79425456",
   "metadata": {},
   "source": [
    "# Model evaluation"
   ]
  },
  {
   "cell_type": "code",
   "execution_count": null,
   "id": "46136b8a",
   "metadata": {},
   "outputs": [],
   "source": [
    "y_test_pred = (model.predict(X_test).flatten() > 0.5) * 1\n",
    "\n",
    "evaluate_model(y_test, y_test_pred, history)"
   ]
  }
 ],
 "metadata": {
  "kernelspec": {
   "display_name": "Python 3",
   "language": "python",
   "name": "python3"
  },
  "language_info": {
   "codemirror_mode": {
    "name": "ipython",
    "version": 3
   },
   "file_extension": ".py",
   "mimetype": "text/x-python",
   "name": "python",
   "nbconvert_exporter": "python",
   "pygments_lexer": "ipython3",
   "version": "3.8.9"
  }
 },
 "nbformat": 4,
 "nbformat_minor": 5
}
