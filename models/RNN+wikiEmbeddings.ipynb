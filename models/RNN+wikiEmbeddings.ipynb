{
 "cells": [
  {
   "cell_type": "code",
   "execution_count": 1,
   "id": "c6c15917",
   "metadata": {},
   "outputs": [
    {
     "name": "stdout",
     "output_type": "stream",
     "text": [
      "Python version: 3.8.9 (default, Apr  3 2021, 01:50:09) \n",
      "[Clang 12.0.0 (clang-1200.0.32.29)]\n",
      "Tensorflow version: 2.4.1\n"
     ]
    }
   ],
   "source": [
    "import sys\n",
    "import tensorflow as tf\n",
    "import pandas as pd\n",
    "import numpy as np\n",
    "\n",
    "pd.set_option('display.max_colwidth', None)\n",
    "SEED=27\n",
    "\n",
    "tf.random.set_seed(SEED)\n",
    "\n",
    "print('Python version:', sys.version)\n",
    "print('Tensorflow version:', tf.__version__)"
   ]
  },
  {
   "cell_type": "markdown",
   "id": "d96cee34",
   "metadata": {},
   "source": [
    "My local imports"
   ]
  },
  {
   "cell_type": "code",
   "execution_count": 2,
   "id": "ed56abf7",
   "metadata": {},
   "outputs": [
    {
     "name": "stdout",
     "output_type": "stream",
     "text": [
      "/Users/n.barsukov/PycharmProjects/toxic-comments-detector\n"
     ]
    }
   ],
   "source": [
    "cd .."
   ]
  },
  {
   "cell_type": "code",
   "execution_count": 3,
   "id": "2960ef17",
   "metadata": {},
   "outputs": [],
   "source": [
    "from textPreprocessing import preprocess_text\n",
    "from wordEmbeddingsLayers import wiki40_russian_embedding_layer"
   ]
  },
  {
   "cell_type": "markdown",
   "id": "e35b26f1",
   "metadata": {},
   "source": [
    "# Data preparation"
   ]
  },
  {
   "cell_type": "code",
   "execution_count": 4,
   "id": "1fba1165",
   "metadata": {},
   "outputs": [
    {
     "data": {
      "text/html": [
       "<div>\n",
       "<style scoped>\n",
       "    .dataframe tbody tr th:only-of-type {\n",
       "        vertical-align: middle;\n",
       "    }\n",
       "\n",
       "    .dataframe tbody tr th {\n",
       "        vertical-align: top;\n",
       "    }\n",
       "\n",
       "    .dataframe thead th {\n",
       "        text-align: right;\n",
       "    }\n",
       "</style>\n",
       "<table border=\"1\" class=\"dataframe\">\n",
       "  <thead>\n",
       "    <tr style=\"text-align: right;\">\n",
       "      <th></th>\n",
       "      <th>comment</th>\n",
       "      <th>toxic</th>\n",
       "    </tr>\n",
       "  </thead>\n",
       "  <tbody>\n",
       "    <tr>\n",
       "      <th>0</th>\n",
       "      <td>Верблюдов-то за что? Дебилы, бл...\\n</td>\n",
       "      <td>1.0</td>\n",
       "    </tr>\n",
       "    <tr>\n",
       "      <th>1</th>\n",
       "      <td>Хохлы, это отдушина затюканого россиянина, мол, вон, а у хохлов еще хуже. Если бы хохлов не было, кисель их бы придумал.\\n</td>\n",
       "      <td>1.0</td>\n",
       "    </tr>\n",
       "    <tr>\n",
       "      <th>2</th>\n",
       "      <td>Собаке - собачья смерть\\n</td>\n",
       "      <td>1.0</td>\n",
       "    </tr>\n",
       "  </tbody>\n",
       "</table>\n",
       "</div>"
      ],
      "text/plain": [
       "                                                                                                                      comment  \\\n",
       "0                                                                                        Верблюдов-то за что? Дебилы, бл...\\n   \n",
       "1  Хохлы, это отдушина затюканого россиянина, мол, вон, а у хохлов еще хуже. Если бы хохлов не было, кисель их бы придумал.\\n   \n",
       "2                                                                                                   Собаке - собачья смерть\\n   \n",
       "\n",
       "   toxic  \n",
       "0    1.0  \n",
       "1    1.0  \n",
       "2    1.0  "
      ]
     },
     "execution_count": 4,
     "metadata": {},
     "output_type": "execute_result"
    }
   ],
   "source": [
    "orig_toxic_comments_df = pd.read_csv('data/toxicCommentsOriginalDF.csv')\n",
    "orig_toxic_comments_df.head(3)"
   ]
  },
  {
   "cell_type": "markdown",
   "id": "a35fa049",
   "metadata": {},
   "source": [
    "Preprocess texts"
   ]
  },
  {
   "cell_type": "code",
   "execution_count": 5,
   "id": "cf26f879",
   "metadata": {},
   "outputs": [
    {
     "data": {
      "text/html": [
       "<div>\n",
       "<style scoped>\n",
       "    .dataframe tbody tr th:only-of-type {\n",
       "        vertical-align: middle;\n",
       "    }\n",
       "\n",
       "    .dataframe tbody tr th {\n",
       "        vertical-align: top;\n",
       "    }\n",
       "\n",
       "    .dataframe thead th {\n",
       "        text-align: right;\n",
       "    }\n",
       "</style>\n",
       "<table border=\"1\" class=\"dataframe\">\n",
       "  <thead>\n",
       "    <tr style=\"text-align: right;\">\n",
       "      <th></th>\n",
       "      <th>comment</th>\n",
       "      <th>toxic</th>\n",
       "    </tr>\n",
       "  </thead>\n",
       "  <tbody>\n",
       "    <tr>\n",
       "      <th>0</th>\n",
       "      <td>верблюд то за что дебил бл</td>\n",
       "      <td>1.0</td>\n",
       "    </tr>\n",
       "    <tr>\n",
       "      <th>1</th>\n",
       "      <td>хохол это отдушина затюканый россиянин мол вон а у хохлов ещё плохой если бы хохлов не быть кисель они бы придумать</td>\n",
       "      <td>1.0</td>\n",
       "    </tr>\n",
       "    <tr>\n",
       "      <th>2</th>\n",
       "      <td>собака собачий смерть</td>\n",
       "      <td>1.0</td>\n",
       "    </tr>\n",
       "  </tbody>\n",
       "</table>\n",
       "</div>"
      ],
      "text/plain": [
       "                                                                                                               comment  \\\n",
       "0                                                                                           верблюд то за что дебил бл   \n",
       "1  хохол это отдушина затюканый россиянин мол вон а у хохлов ещё плохой если бы хохлов не быть кисель они бы придумать   \n",
       "2                                                                                                собака собачий смерть   \n",
       "\n",
       "   toxic  \n",
       "0    1.0  \n",
       "1    1.0  \n",
       "2    1.0  "
      ]
     },
     "execution_count": 5,
     "metadata": {},
     "output_type": "execute_result"
    }
   ],
   "source": [
    "df = orig_toxic_comments_df.copy()\n",
    "\n",
    "df['comment'] = list(map(preprocess_text, df['comment']))\n",
    "\n",
    "df.head(3)"
   ]
  },
  {
   "cell_type": "markdown",
   "id": "695bc9f6",
   "metadata": {},
   "source": [
    "Train / test dataframe split"
   ]
  },
  {
   "cell_type": "code",
   "execution_count": 6,
   "id": "af978ce1",
   "metadata": {},
   "outputs": [],
   "source": [
    "from sklearn.model_selection import train_test_split\n",
    "\n",
    "y = df.pop('toxic')\n",
    "X = np.array(df)\n",
    "\n",
    "X_train, X_test, y_train, y_test = train_test_split(X, y, test_size=0.2, random_state=SEED)"
   ]
  },
  {
   "cell_type": "markdown",
   "id": "9074b638",
   "metadata": {},
   "source": [
    "# Build RNN model"
   ]
  },
  {
   "cell_type": "code",
   "execution_count": 7,
   "id": "bfa30111",
   "metadata": {},
   "outputs": [],
   "source": [
    "from tensorflow.keras import layers, losses\n",
    "\n",
    "model = tf.keras.Sequential([\n",
    "    layers.Input(shape=[], dtype=tf.string),\n",
    "    wiki40_russian_embedding_layer,\n",
    "    tf.keras.layers.Bidirectional(tf.keras.layers.LSTM(64)),\n",
    "    layers.Dropout(rate=0.2, seed=SEED),\n",
    "    tf.keras.layers.Dense(64, activation='relu'),\n",
    "    layers.Dense(1),\n",
    "    layers.Activation('sigmoid') # то есть в конце мы выдаем уже вероятности\n",
    "])\n",
    "\n",
    "model.compile(\n",
    "    loss=losses.BinaryCrossentropy(from_logits=False), # from_logits=False, потому что у нас есть финальный \n",
    "    optimizer='adam',\n",
    "    metrics=[tf.keras.metrics.BinaryAccuracy(), tf.keras.metrics.Recall(), tf.keras.metrics.Precision()]\n",
    ")"
   ]
  },
  {
   "cell_type": "code",
   "execution_count": 8,
   "id": "6189502e",
   "metadata": {},
   "outputs": [
    {
     "name": "stdout",
     "output_type": "stream",
     "text": [
      "Epoch 1/10\n",
      "73/73 [==============================] - 64s 844ms/step - loss: 0.5389 - binary_accuracy: 0.7179 - recall: 0.3631 - precision: 0.6432 - val_loss: 0.3369 - val_binary_accuracy: 0.8539 - val_recall: 0.7174 - val_precision: 0.8212\n",
      "Epoch 2/10\n",
      "73/73 [==============================] - 60s 828ms/step - loss: 0.2945 - binary_accuracy: 0.8822 - recall: 0.8057 - precision: 0.8410 - val_loss: 0.2915 - val_binary_accuracy: 0.8786 - val_recall: 0.7930 - val_precision: 0.8342\n",
      "Epoch 3/10\n",
      "73/73 [==============================] - 60s 818ms/step - loss: 0.2206 - binary_accuracy: 0.9145 - recall: 0.8622 - precision: 0.8796 - val_loss: 0.4626 - val_binary_accuracy: 0.7984 - val_recall: 0.9388 - val_precision: 0.6330\n",
      "Epoch 4/10\n",
      "73/73 [==============================] - 59s 804ms/step - loss: 0.1945 - binary_accuracy: 0.9275 - recall: 0.9012 - precision: 0.8892 - val_loss: 0.3117 - val_binary_accuracy: 0.8851 - val_recall: 0.7643 - val_precision: 0.8748\n",
      "Epoch 5/10\n",
      "73/73 [==============================] - 61s 847ms/step - loss: 0.1447 - binary_accuracy: 0.9472 - recall: 0.9203 - precision: 0.9224 - val_loss: 0.3066 - val_binary_accuracy: 0.8846 - val_recall: 0.8724 - val_precision: 0.7995\n",
      "Epoch 6/10\n",
      "73/73 [==============================] - 59s 809ms/step - loss: 0.0961 - binary_accuracy: 0.9640 - recall: 0.9530 - precision: 0.9414 - val_loss: 0.3219 - val_binary_accuracy: 0.8929 - val_recall: 0.8542 - val_precision: 0.8293\n",
      "Epoch 7/10\n",
      "73/73 [==============================] - 58s 797ms/step - loss: 0.0702 - binary_accuracy: 0.9779 - recall: 0.9740 - precision: 0.9612 - val_loss: 0.4195 - val_binary_accuracy: 0.8820 - val_recall: 0.7565 - val_precision: 0.8724\n",
      "Epoch 8/10\n",
      "73/73 [==============================] - 57s 784ms/step - loss: 0.0472 - binary_accuracy: 0.9853 - recall: 0.9803 - precision: 0.9765 - val_loss: 0.3887 - val_binary_accuracy: 0.8773 - val_recall: 0.8919 - val_precision: 0.7740\n",
      "Epoch 9/10\n",
      "73/73 [==============================] - 56s 756ms/step - loss: 0.0401 - binary_accuracy: 0.9881 - recall: 0.9856 - precision: 0.9784 - val_loss: 0.4975 - val_binary_accuracy: 0.8842 - val_recall: 0.7708 - val_precision: 0.8668\n",
      "Epoch 10/10\n",
      "73/73 [==============================] - 62s 849ms/step - loss: 0.0818 - binary_accuracy: 0.9702 - recall: 0.9525 - precision: 0.9606 - val_loss: 0.4499 - val_binary_accuracy: 0.8851 - val_recall: 0.7982 - val_precision: 0.8479\n"
     ]
    }
   ],
   "source": [
    "epochs = 10\n",
    "history = model.fit(\n",
    "    x=X_train,\n",
    "    y=y_train,\n",
    "    epochs=epochs,\n",
    "    batch_size=2**7,\n",
    "    validation_split=0.2, # сколько от тестовой выборки отрезать под валидационную\n",
    ")"
   ]
  },
  {
   "cell_type": "markdown",
   "id": "79425456",
   "metadata": {},
   "source": [
    "# Model evaluation"
   ]
  },
  {
   "cell_type": "code",
   "execution_count": 9,
   "id": "46136b8a",
   "metadata": {},
   "outputs": [
    {
     "name": "stdout",
     "output_type": "stream",
     "text": [
      "91/91 [==============================] - 6s 64ms/step - loss: 0.4114 - binary_accuracy: 0.8998 - recall: 0.8103 - precision: 0.8774\n",
      "\n",
      "Loss:  0.4113820195198059\n",
      "Accuracy:  0.8997572064399719\n",
      "Recall:  0.8102725148200989\n",
      "Precision:  0.8774120211601257 \n",
      "\n",
      "              precision    recall  f1-score   support\n",
      "\n",
      "   non_toxic       0.91      0.94      0.93      1929\n",
      "       toxic       0.88      0.81      0.84       954\n",
      "\n",
      "    accuracy                           0.90      2883\n",
      "   macro avg       0.89      0.88      0.88      2883\n",
      "weighted avg       0.90      0.90      0.90      2883\n",
      "\n",
      "Confusion matrix:\n",
      "[[1821  108]\n",
      " [ 181  773]]\n"
     ]
    }
   ],
   "source": [
    "from sklearn.metrics import classification_report, confusion_matrix\n",
    "\n",
    "loss, accuracy, recall, precision = model.evaluate(x=X_test, y=y_test)\n",
    "y_test_pred = (model.predict(X_test).flatten() > 0.5) * 1\n",
    "\n",
    "print(\"\\nLoss: \", loss)\n",
    "print(\"Accuracy: \", accuracy)\n",
    "print(\"Recall: \", recall)\n",
    "print(\"Precision: \", precision, '\\n')\n",
    "\n",
    "print(classification_report(y_true=y_test, y_pred=y_test_pred, target_names=['non_toxic', 'toxic']))\n",
    "\n",
    "print('Confusion matrix:')\n",
    "print(confusion_matrix(y_true=y_test, y_pred=y_test_pred))"
   ]
  }
 ],
 "metadata": {
  "kernelspec": {
   "display_name": "Python 3",
   "language": "python",
   "name": "python3"
  },
  "language_info": {
   "codemirror_mode": {
    "name": "ipython",
    "version": 3
   },
   "file_extension": ".py",
   "mimetype": "text/x-python",
   "name": "python",
   "nbconvert_exporter": "python",
   "pygments_lexer": "ipython3",
   "version": "3.8.9"
  }
 },
 "nbformat": 4,
 "nbformat_minor": 5
}
