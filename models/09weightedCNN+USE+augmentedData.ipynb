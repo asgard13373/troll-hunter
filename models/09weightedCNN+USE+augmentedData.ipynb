{
 "cells": [
  {
   "cell_type": "markdown",
   "id": "097cb4a6",
   "metadata": {},
   "source": [
    "<div style=\"display: flex;\">\n",
    "    <a href=\"https://t.me/nsbarsukov\" style=\"margin-right:20px;\">\n",
    "        <img src=\"https://img.shields.io/badge/Telegram-2CA5E0?style=for-the-badge&logo=telegram&logoColor=white\" alt=\"write-me-telegram\"/>\n",
    "    </a>\n",
    "    <a href=\"https://github.com/nsbarsukov/toxic-comments-detector\" style=\"margin-right:20px;\">\n",
    "        <img src=\"https://img.shields.io/badge/GitHub-100000?style=for-the-badge&logo=github&logoColor=white\" alt=\"Open Github\"/>\n",
    "    </a>\n",
    "</div>\n",
    "<div style=\"display: flex; margin-top: 20px;\">\n",
    "    <a href=\"https://colab.research.google.com/github/nsbarsukov/toxic-comments-detector/blob/master/models/09\n",
    "             weightedCNN%2BUSE%2BaugmentedData.ipynb\">\n",
    "        <img src=\"https://colab.research.google.com/assets/colab-badge.svg\" alt=\"Open In Colab\"/>\n",
    "    </a>\n",
    "</div>"
   ]
  },
  {
   "cell_type": "code",
   "execution_count": 1,
   "id": "9fc137ec",
   "metadata": {},
   "outputs": [],
   "source": [
    "MODEL_NAME = 'weightedCNN_USE_augmentedData'"
   ]
  },
  {
   "cell_type": "code",
   "execution_count": 2,
   "id": "28ec6110",
   "metadata": {},
   "outputs": [
    {
     "name": "stdout",
     "output_type": "stream",
     "text": [
      "/Users/n.barsukov/PycharmProjects/toxic-comments-detector\n"
     ]
    }
   ],
   "source": [
    "import os\n",
    "\n",
    "def check_is_google_colab():\n",
    "    return 'google.colab' in str(get_ipython())\n",
    "\n",
    "\n",
    "def prepare_environment():\n",
    "    if check_is_google_colab():\n",
    "        from google.colab import drive\n",
    "        import shutil\n",
    "        \n",
    "        drive.mount('/content/gdrive/')\n",
    "\n",
    "        PATH_TO_TEMP_REPO = '/content/gdrive/My Drive/toxic-comments-repo-temp'\n",
    "\n",
    "        try:\n",
    "            shutil.rmtree(PATH_TO_TEMP_REPO)\n",
    "        except:\n",
    "            pass\n",
    "\n",
    "        os.mkdir(PATH_TO_TEMP_REPO)\n",
    "        \n",
    "        %cd ./gdrive/My Drive/toxic-comments-repo-temp\n",
    "        ! git clone https://github.com/nsbarsukov/toxic-comments-detector.git .\n",
    "        ! pip3 install -q tensorflow_text\n",
    "    else:\n",
    "        %cd ..\n",
    "\n",
    "prepare_environment()"
   ]
  },
  {
   "cell_type": "code",
   "execution_count": 3,
   "id": "c6c15917",
   "metadata": {},
   "outputs": [
    {
     "name": "stdout",
     "output_type": "stream",
     "text": [
      "Python version: 3.8.9 (default, Apr  3 2021, 01:50:09) \n",
      "[Clang 12.0.0 (clang-1200.0.32.29)]\n",
      "Tensorflow version: 2.4.1\n"
     ]
    }
   ],
   "source": [
    "import sys\n",
    "import tensorflow as tf\n",
    "import numpy as np\n",
    "\n",
    "# local (this repo) imports\n",
    "from dev import (\n",
    "    load_cleaned_russian_text_data,\n",
    "    load_translated_from_english_cleaned_russian_text_data,\n",
    "    get_class_weights,\n",
    "    get_initial_output_bias,\n",
    "    evaluate_model,\n",
    "    show_tf_model_summary,\n",
    "    early_stopping_cb,\n",
    "    SEED,\n",
    "    VALIDATION_SPLIT_PARTITION,\n",
    "    DEFAULT_BATCH_SIZE,\n",
    "    DEFAULT_EPOCHS\n",
    ")\n",
    "from wordEmbeddingsLayers import create_universal_sentence_encoder_layer, USE_SENTENCE_EMBEDDING_DIMENSION\n",
    "\n",
    "tf.random.set_seed(SEED)\n",
    "\n",
    "print('Python version:', sys.version)\n",
    "print('Tensorflow version:', tf.__version__)"
   ]
  },
  {
   "cell_type": "markdown",
   "id": "9074b638",
   "metadata": {},
   "source": [
    "# Build CNN model"
   ]
  },
  {
   "cell_type": "code",
   "execution_count": 4,
   "id": "1fba1165",
   "metadata": {},
   "outputs": [],
   "source": [
    "X_translated_pretrain, y_translated_pretrain = load_translated_from_english_cleaned_russian_text_data()\n",
    "X_train, X_test, y_train, y_test = load_cleaned_russian_text_data()"
   ]
  },
  {
   "cell_type": "code",
   "execution_count": 5,
   "id": "bfa30111",
   "metadata": {},
   "outputs": [],
   "source": [
    "from tensorflow.keras import layers, losses\n",
    "\n",
    "model = tf.keras.Sequential([\n",
    "    layers.Input(shape=[], dtype=tf.string, name='Raw_text'),\n",
    "    create_universal_sentence_encoder_layer(),\n",
    "    \n",
    "    layers.Reshape((USE_SENTENCE_EMBEDDING_DIMENSION, 1)),\n",
    "    layers.Conv1D(filters=256, kernel_size=5, activation='relu'),\n",
    "    layers.GlobalMaxPool1D(),\n",
    "    \n",
    "    layers.Dense(units=128, activation='relu', name='FC_Layer_Relu'),\n",
    "    layers.Dropout(rate=0.5, seed=SEED, name='Regularization'),\n",
    "    layers.Dense(\n",
    "        units=1,\n",
    "        name='FC_Layer_sigmoid',\n",
    "        activation='sigmoid'\n",
    "    ),\n",
    "], name=MODEL_NAME)\n",
    "\n",
    "model.compile(\n",
    "    loss=losses.BinaryCrossentropy(from_logits=False),\n",
    "    optimizer='adam',\n",
    "    metrics=[tf.keras.metrics.BinaryAccuracy(), tf.keras.metrics.Recall(), tf.keras.metrics.Precision()]\n",
    ")"
   ]
  },
  {
   "cell_type": "code",
   "execution_count": 6,
   "id": "650c19a9",
   "metadata": {},
   "outputs": [
    {
     "name": "stdout",
     "output_type": "stream",
     "text": [
      "Epoch 1/10\n",
      "16/16 [==============================] - 79s 4s/step - loss: 0.6918 - binary_accuracy: 0.5302 - recall: 0.1536 - precision: 0.5811 - val_loss: 0.6671 - val_binary_accuracy: 0.7850 - val_recall: 0.6504 - val_precision: 0.8800\n",
      "Epoch 2/10\n",
      "16/16 [==============================] - 69s 4s/step - loss: 0.6353 - binary_accuracy: 0.7709 - recall: 0.6405 - precision: 0.8666 - val_loss: 0.5236 - val_binary_accuracy: 0.8365 - val_recall: 0.8889 - val_precision: 0.8000\n",
      "Epoch 3/10\n",
      "16/16 [==============================] - 75s 5s/step - loss: 0.4630 - binary_accuracy: 0.8816 - recall: 0.8998 - precision: 0.8685 - val_loss: 0.4262 - val_binary_accuracy: 0.8405 - val_recall: 0.9103 - val_precision: 0.7945\n",
      "Epoch 4/10\n",
      "16/16 [==============================] - 77s 5s/step - loss: 0.2986 - binary_accuracy: 0.9229 - recall: 0.9481 - precision: 0.9039 - val_loss: 0.4020 - val_binary_accuracy: 0.8450 - val_recall: 0.8970 - val_precision: 0.8081\n",
      "Epoch 5/10\n",
      "16/16 [==============================] - 76s 5s/step - loss: 0.2057 - binary_accuracy: 0.9423 - recall: 0.9671 - precision: 0.9222 - val_loss: 0.4403 - val_binary_accuracy: 0.8580 - val_recall: 0.8461 - val_precision: 0.8619\n",
      "Epoch 6/10\n",
      "16/16 [==============================] - 78s 5s/step - loss: 0.1578 - binary_accuracy: 0.9563 - recall: 0.9788 - precision: 0.9376 - val_loss: 0.4316 - val_binary_accuracy: 0.8485 - val_recall: 0.8991 - val_precision: 0.8122\n",
      "Epoch 7/10\n",
      "16/16 [==============================] - 76s 5s/step - loss: 0.1165 - binary_accuracy: 0.9699 - recall: 0.9879 - precision: 0.9540 - val_loss: 0.5308 - val_binary_accuracy: 0.8500 - val_recall: 0.8512 - val_precision: 0.8443\n",
      "Restoring model weights from the end of the best epoch.\n",
      "Epoch 00007: early stopping\n"
     ]
    }
   ],
   "source": [
    "pretrain_history = model.fit(\n",
    "    x=X_translated_pretrain,\n",
    "    y=y_translated_pretrain,\n",
    "    epochs=DEFAULT_EPOCHS,\n",
    "    batch_size=DEFAULT_BATCH_SIZE,\n",
    "    validation_split=VALIDATION_SPLIT_PARTITION,\n",
    "    callbacks=[early_stopping_cb],\n",
    ")"
   ]
  },
  {
   "cell_type": "code",
   "execution_count": null,
   "id": "6189502e",
   "metadata": {},
   "outputs": [
    {
     "name": "stdout",
     "output_type": "stream",
     "text": [
      "Epoch 1/10\n",
      "19/19 [==============================] - 55s 3s/step - loss: 0.3731 - binary_accuracy: 0.8419 - recall: 0.8808 - precision: 0.7153 - val_loss: 0.2895 - val_binary_accuracy: 0.8886 - val_recall: 0.8581 - val_precision: 0.8166\n",
      "Epoch 2/10\n",
      "19/19 [==============================] - 48s 3s/step - loss: 0.2068 - binary_accuracy: 0.9295 - recall: 0.9584 - precision: 0.8510 - val_loss: 0.2845 - val_binary_accuracy: 0.8981 - val_recall: 0.8867 - val_precision: 0.8215\n",
      "Epoch 3/10\n",
      "19/19 [==============================] - 50s 3s/step - loss: 0.1363 - binary_accuracy: 0.9579 - recall: 0.9839 - precision: 0.9004 - val_loss: 0.4346 - val_binary_accuracy: 0.8491 - val_recall: 0.9453 - val_precision: 0.7035\n",
      "Epoch 4/10\n",
      "19/19 [==============================] - ETA: 0s - loss: 0.1734 - binary_accuracy: 0.9342 - recall: 0.9894 - precision: 0.8425"
     ]
    }
   ],
   "source": [
    "negative_class_amount, pos_class_amount = np.bincount(y_train)\n",
    "\n",
    "history = model.fit(\n",
    "    x=X_train,\n",
    "    y=y_train,\n",
    "    epochs=DEFAULT_EPOCHS,\n",
    "    batch_size=DEFAULT_BATCH_SIZE,\n",
    "    validation_split=VALIDATION_SPLIT_PARTITION,\n",
    "    callbacks=[early_stopping_cb],\n",
    "    class_weight=get_class_weights(pos_class_amount, negative_class_amount),\n",
    ")"
   ]
  },
  {
   "cell_type": "markdown",
   "id": "79425456",
   "metadata": {},
   "source": [
    "# Model evaluation"
   ]
  },
  {
   "cell_type": "code",
   "execution_count": null,
   "id": "46136b8a",
   "metadata": {},
   "outputs": [],
   "source": [
    "y_test_pred = (model.predict(X_test).flatten() > 0.5) * 1\n",
    "\n",
    "evaluate_model(y_test, y_test_pred, tf_history_learning=history, model_name=MODEL_NAME)"
   ]
  },
  {
   "cell_type": "code",
   "execution_count": null,
   "id": "b5d1aaeb",
   "metadata": {},
   "outputs": [],
   "source": [
    "show_tf_model_summary(model)"
   ]
  }
 ],
 "metadata": {
  "kernelspec": {
   "display_name": "Python 3",
   "language": "python",
   "name": "python3"
  },
  "language_info": {
   "codemirror_mode": {
    "name": "ipython",
    "version": 3
   },
   "file_extension": ".py",
   "mimetype": "text/x-python",
   "name": "python",
   "nbconvert_exporter": "python",
   "pygments_lexer": "ipython3",
   "version": "3.8.9"
  }
 },
 "nbformat": 4,
 "nbformat_minor": 5
}
