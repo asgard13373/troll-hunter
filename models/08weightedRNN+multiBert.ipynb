{
 "cells": [
  {
   "cell_type": "markdown",
   "id": "466cf439",
   "metadata": {},
   "source": [
    "<div style=\"display: flex;\">\n",
    "    <a href=\"https://t.me/nsbarsukov\" style=\"margin-right:20px;\">\n",
    "        <img src=\"https://img.shields.io/badge/Telegram-2CA5E0?style=for-the-badge&logo=telegram&logoColor=white\" alt=\"write-me-telegram\"/>\n",
    "    </a>\n",
    "    <a href=\"https://github.com/nsbarsukov/toxic-comments-detector\" style=\"margin-right:20px;\">\n",
    "        <img src=\"https://img.shields.io/badge/GitHub-100000?style=for-the-badge&logo=github&logoColor=white\" alt=\"Open Github\"/>\n",
    "    </a>\n",
    "</div>\n",
    "<div style=\"display: flex; margin-top: 20px;\">\n",
    "    <a href=\"https://colab.research.google.com/github/nsbarsukov/toxic-comments-detector/blob/master/models/08weightedRNN%2BmultiBert.ipynb\">\n",
    "        <img src=\"https://colab.research.google.com/assets/colab-badge.svg\" alt=\"Open In Colab\"/>\n",
    "    </a>\n",
    "</div>"
   ]
  },
  {
   "cell_type": "code",
   "execution_count": null,
   "id": "28ec6110",
   "metadata": {},
   "outputs": [],
   "source": [
    "import os\n",
    "\n",
    "def check_is_google_colab():\n",
    "    return 'google.colab' in str(get_ipython())\n",
    "\n",
    "\n",
    "def prepare_environment():\n",
    "    if check_is_google_colab():\n",
    "        from google.colab import drive\n",
    "        import shutil\n",
    "        \n",
    "        drive.mount('/content/gdrive/')\n",
    "\n",
    "        PATH_TO_TEMP_REPO = '/content/gdrive/My Drive/toxic-comments-repo-temp'\n",
    "\n",
    "        try:\n",
    "            shutil.rmtree(PATH_TO_TEMP_REPO)\n",
    "        except:\n",
    "            pass\n",
    "\n",
    "        os.mkdir(PATH_TO_TEMP_REPO)\n",
    "        \n",
    "        %cd ./gdrive/My Drive/toxic-comments-repo-temp\n",
    "        ! git clone https://github.com/nsbarsukov/toxic-comments-detector.git .\n",
    "        ! pip3 install -q tensorflow_text\n",
    "    else:\n",
    "        %cd ..\n",
    "\n",
    "prepare_environment()"
   ]
  },
  {
   "cell_type": "code",
   "execution_count": null,
   "id": "c6c15917",
   "metadata": {},
   "outputs": [],
   "source": [
    "import sys\n",
    "import tensorflow as tf\n",
    "import numpy as np\n",
    "\n",
    "# local (this repo) imports\n",
    "from dev import (\n",
    "    load_cleaned_russian_text_data,\n",
    "    get_class_weights,\n",
    "    get_initial_output_bias,\n",
    "    evaluate_model,\n",
    "    SEED,\n",
    "    VALIDATION_SPLIT_PARTITION,\n",
    "    DEFAULT_BATCH_SIZE,\n",
    "    DEFAULT_EPOCHS\n",
    ")\n",
    "from wordEmbeddingsLayers import (\n",
    "    create_multiBERT_preprocess_layer,\n",
    "    create_multiBERT_encoder_layer,\n",
    "    BERTLayer\n",
    ")\n",
    "\n",
    "tf.random.set_seed(SEED)\n",
    "\n",
    "print('Python version:', sys.version)\n",
    "print('Tensorflow version:', tf.__version__)"
   ]
  },
  {
   "cell_type": "markdown",
   "id": "9074b638",
   "metadata": {},
   "source": [
    "# Build RNN model"
   ]
  },
  {
   "cell_type": "code",
   "execution_count": null,
   "id": "1fba1165",
   "metadata": {},
   "outputs": [],
   "source": [
    "X_train, X_test, y_train, y_test = load_cleaned_russian_text_data()"
   ]
  },
  {
   "cell_type": "code",
   "execution_count": null,
   "id": "bfa30111",
   "metadata": {},
   "outputs": [],
   "source": [
    "from tensorflow.keras import layers, losses\n",
    "\n",
    "negative_class_amount, pos_class_amount = np.bincount(y_train)\n",
    "\n",
    "initial_output_bias = tf.keras.initializers.Constant(\n",
    "    get_initial_output_bias(pos_class_amount, negative_class_amount)\n",
    ")\n",
    "\n",
    "early_stopping = tf.keras.callbacks.EarlyStopping(\n",
    "    monitor='val_loss',\n",
    "    mode='min',\n",
    "    patience=2,\n",
    "    verbose=1,\n",
    "    restore_best_weights=False\n",
    ")\n",
    "\n",
    "# model = tf.keras.Sequential([\n",
    "#     layers.Input(shape=[], dtype=tf.string),\n",
    "#     BERTLayer(to_sequence=True),\n",
    "    \n",
    "#     layers.Bidirectional(tf.keras.layers.LSTM(256)),\n",
    "    \n",
    "#     layers.Dense(128, activation='relu'),\n",
    "#     layers.Dropout(rate=0.5, seed=SEED),\n",
    "#     layers.Dense(units=1, bias_initializer=initial_output_bias),\n",
    "#     layers.Activation('sigmoid') # то есть в конце мы выдаем уже вероятности\n",
    "# ])\n",
    "\n",
    "\n",
    "def build_classifier_model():\n",
    "    text_input = layers.Input(shape=[], dtype=tf.string, name='text')\n",
    "    \n",
    "    # bert\n",
    "    preprocessing_layer = create_multiBERT_preprocess_layer()\n",
    "    encoder_inputs = preprocessing_layer(text_input)\n",
    "    encoder = create_multiBERT_encoder_layer()\n",
    "    outputs = encoder(encoder_inputs)\n",
    "    net = outputs['sequence_output']\n",
    "    \n",
    "    # RNN\n",
    "    net = layers.Bidirectional(tf.keras.layers.LSTM(256))(net)\n",
    "    \n",
    "    # fully connected and final\n",
    "    net = layers.Dense(128, activation='relu')(net)\n",
    "    net = layers.Dropout(rate=0.5, seed=SEED)(net)\n",
    "    net = layers.Dense(units=1, bias_initializer=initial_output_bias)(net)\n",
    "    net = layers.Activation('sigmoid')(net)\n",
    "    \n",
    "    return tf.keras.Model(text_input, net)\n",
    "    \n",
    "model = build_classifier_model()\n",
    "\n",
    "model.compile(\n",
    "    loss=losses.BinaryCrossentropy(from_logits=False), # from_logits=False, т.к. на выходе layers.Activation('sigmoid')\n",
    "    optimizer='adam',\n",
    "    metrics=[tf.keras.metrics.BinaryAccuracy(), tf.keras.metrics.Recall(), tf.keras.metrics.Precision()]\n",
    ")"
   ]
  },
  {
   "cell_type": "code",
   "execution_count": null,
   "id": "6189502e",
   "metadata": {},
   "outputs": [],
   "source": [
    "history = model.fit(\n",
    "    x=X_train,\n",
    "    y=y_train,\n",
    "    epochs=DEFAULT_EPOCHS,\n",
    "    batch_size=DEFAULT_BATCH_SIZE // 16,\n",
    "    validation_split=VALIDATION_SPLIT_PARTITION,\n",
    "#     callbacks=[early_stopping],\n",
    "    class_weight=get_class_weights(pos_class_amount, negative_class_amount),\n",
    ")"
   ]
  },
  {
   "cell_type": "markdown",
   "id": "79425456",
   "metadata": {},
   "source": [
    "# Model evaluation"
   ]
  },
  {
   "cell_type": "code",
   "execution_count": null,
   "id": "46136b8a",
   "metadata": {},
   "outputs": [],
   "source": [
    "y_test_pred = (model.predict(X_test).flatten() > 0.5) * 1\n",
    "\n",
    "evaluate_model(y_test, y_test_pred, history)"
   ]
  }
 ],
 "metadata": {
  "kernelspec": {
   "display_name": "Python 3",
   "language": "python",
   "name": "python3"
  },
  "language_info": {
   "codemirror_mode": {
    "name": "ipython",
    "version": 3
   },
   "file_extension": ".py",
   "mimetype": "text/x-python",
   "name": "python",
   "nbconvert_exporter": "python",
   "pygments_lexer": "ipython3",
   "version": "3.8.9"
  }
 },
 "nbformat": 4,
 "nbformat_minor": 5
}
