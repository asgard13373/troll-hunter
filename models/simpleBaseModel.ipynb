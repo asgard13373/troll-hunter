{
 "cells": [
  {
   "cell_type": "code",
   "execution_count": 1,
   "metadata": {},
   "outputs": [
    {
     "name": "stdout",
     "output_type": "stream",
     "text": [
      "Python version: 3.8.9 (default, Apr  3 2021, 01:50:09) \n",
      "[Clang 12.0.0 (clang-1200.0.32.29)]\n",
      "Tensorflow version: 2.4.1\n"
     ]
    }
   ],
   "source": [
    "import sys\n",
    "import tensorflow as tf\n",
    "import pandas as pd\n",
    "import numpy as np\n",
    "\n",
    "pd.set_option('display.max_colwidth', None)\n",
    "SEED=27\n",
    "\n",
    "tf.random.set_seed(SEED)\n",
    "\n",
    "print('Python version:', sys.version)\n",
    "print('Tensorflow version:', tf.__version__)"
   ]
  },
  {
   "cell_type": "markdown",
   "metadata": {},
   "source": [
    "## Загрузка сырых данных"
   ]
  },
  {
   "cell_type": "code",
   "execution_count": 2,
   "metadata": {},
   "outputs": [
    {
     "name": "stdout",
     "output_type": "stream",
     "text": [
      "Количество комментариев: 14412\n",
      "75% всех комментариев не больше 32 слов в длину\n"
     ]
    },
    {
     "data": {
      "text/html": [
       "<div>\n",
       "<style scoped>\n",
       "    .dataframe tbody tr th:only-of-type {\n",
       "        vertical-align: middle;\n",
       "    }\n",
       "\n",
       "    .dataframe tbody tr th {\n",
       "        vertical-align: top;\n",
       "    }\n",
       "\n",
       "    .dataframe thead th {\n",
       "        text-align: right;\n",
       "    }\n",
       "</style>\n",
       "<table border=\"1\" class=\"dataframe\">\n",
       "  <thead>\n",
       "    <tr style=\"text-align: right;\">\n",
       "      <th></th>\n",
       "      <th>comment</th>\n",
       "      <th>toxic</th>\n",
       "    </tr>\n",
       "  </thead>\n",
       "  <tbody>\n",
       "    <tr>\n",
       "      <th>0</th>\n",
       "      <td>Верблюдов-то за что? Дебилы, бл...\\n</td>\n",
       "      <td>1.0</td>\n",
       "    </tr>\n",
       "    <tr>\n",
       "      <th>1</th>\n",
       "      <td>Хохлы, это отдушина затюканого россиянина, мол, вон, а у хохлов еще хуже. Если бы хохлов не было, кисель их бы придумал.\\n</td>\n",
       "      <td>1.0</td>\n",
       "    </tr>\n",
       "    <tr>\n",
       "      <th>2</th>\n",
       "      <td>Собаке - собачья смерть\\n</td>\n",
       "      <td>1.0</td>\n",
       "    </tr>\n",
       "  </tbody>\n",
       "</table>\n",
       "</div>"
      ],
      "text/plain": [
       "                                                                                                                      comment  \\\n",
       "0                                                                                        Верблюдов-то за что? Дебилы, бл...\\n   \n",
       "1  Хохлы, это отдушина затюканого россиянина, мол, вон, а у хохлов еще хуже. Если бы хохлов не было, кисель их бы придумал.\\n   \n",
       "2                                                                                                   Собаке - собачья смерть\\n   \n",
       "\n",
       "   toxic  \n",
       "0    1.0  \n",
       "1    1.0  \n",
       "2    1.0  "
      ]
     },
     "execution_count": 2,
     "metadata": {},
     "output_type": "execute_result"
    }
   ],
   "source": [
    "def get_3d_quartile_words_count(sentences_array):\n",
    "    \"\"\"\n",
    "    Получает массив строк/предложений.\n",
    "    Отдает число N.\n",
    "    75% всех предложений данного массива не превышают N слов в длину.\n",
    "    \"\"\"\n",
    "    def count_words(sentence):\n",
    "        return len(sentence.split(' '))\n",
    "        \n",
    "    \n",
    "    return round(\n",
    "        np.percentile(sentences_array.apply(count_words), 75)\n",
    "    )\n",
    "\n",
    "orig_toxic_comments_df = pd.read_csv('data/toxicCommentsOriginalDF.csv')\n",
    "print('Количество комментариев:', len(orig_toxic_comments_df))\n",
    "print(f\"75% всех комментариев не больше {get_3d_quartile_words_count(orig_toxic_comments_df['comment'])} слов в длину\")\n",
    "orig_toxic_comments_df.head(3)"
   ]
  },
  {
   "cell_type": "markdown",
   "metadata": {},
   "source": [
    "## Split train-validation-test DF"
   ]
  },
  {
   "cell_type": "code",
   "execution_count": 3,
   "metadata": {},
   "outputs": [],
   "source": [
    "df = orig_toxic_comments_df.copy()\n",
    "\n",
    "y = df.pop('toxic')\n",
    "X = np.array(df)"
   ]
  },
  {
   "cell_type": "code",
   "execution_count": 4,
   "metadata": {},
   "outputs": [],
   "source": [
    "from sklearn.model_selection import train_test_split\n",
    "\n",
    "X_train, X_test, y_train, y_test = train_test_split(X, y, test_size=0.2, random_state=SEED)"
   ]
  },
  {
   "cell_type": "markdown",
   "metadata": {},
   "source": [
    "## Train model"
   ]
  },
  {
   "cell_type": "code",
   "execution_count": 5,
   "metadata": {},
   "outputs": [],
   "source": [
    "from tensorflow.keras.layers.experimental.preprocessing import TextVectorization\n",
    "from tensorflow.keras import layers, losses\n",
    "\n",
    "# local util\n",
    "from textPreprocessing import preprocess_text"
   ]
  },
  {
   "cell_type": "code",
   "execution_count": 6,
   "metadata": {},
   "outputs": [],
   "source": [
    "MAX_FEATURES = 10000\n",
    "MAX_SEQUENCE_LENGTH = get_3d_quartile_words_count(df['comment'])\n",
    "\n",
    "\n",
    "def decode_byte_string_to_russian_text(string_tensor):\n",
    "    try:\n",
    "        return string_tensor[0].numpy().decode('utf-8')\n",
    "    except:\n",
    "        return ''\n",
    "\n",
    "def custom_standardization(texts_tensor):    \n",
    "    result = tf.map_fn(fn=lambda x: preprocess_text(decode_byte_string_to_russian_text(x)), elems=texts_tensor)\n",
    "    \n",
    "    return result\n",
    "\n",
    "vectorize_layer = TextVectorization(\n",
    "#     standardize=custom_standardization,\n",
    "    max_tokens=MAX_FEATURES,\n",
    "    output_mode='int',\n",
    "    output_sequence_length=MAX_SEQUENCE_LENGTH\n",
    ")\n",
    "vectorize_layer.adapt(X_train)"
   ]
  },
  {
   "cell_type": "code",
   "execution_count": 7,
   "metadata": {},
   "outputs": [],
   "source": [
    "model = tf.keras.Sequential([\n",
    "    layers.Input(shape=[], dtype=tf.string),\n",
    "    vectorize_layer,\n",
    "    layers.Embedding(\n",
    "        input_dim = len(vectorize_layer.get_vocabulary()),\n",
    "        output_dim = 16\n",
    "    ),\n",
    "    layers.Dropout(0.2),\n",
    "    layers.GlobalAveragePooling1D(),\n",
    "    layers.Dropout(0.2),\n",
    "    layers.Dense(1),\n",
    "    layers.Activation('sigmoid') # то есть в конце мы выдаем уже вероятности\n",
    "])\n",
    "\n",
    "model.compile(\n",
    "    loss=losses.BinaryCrossentropy(from_logits=False),\n",
    "    optimizer='adam',\n",
    "    metrics=[tf.keras.metrics.BinaryAccuracy(), tf.keras.metrics.Recall(), tf.keras.metrics.Precision()]\n",
    ")"
   ]
  },
  {
   "cell_type": "code",
   "execution_count": 8,
   "metadata": {},
   "outputs": [
    {
     "name": "stdout",
     "output_type": "stream",
     "text": [
      "Epoch 1/20\n",
      "289/289 [==============================] - 2s 5ms/step - loss: 0.6658 - binary_accuracy: 0.6402 - recall: 0.0908 - precision: 0.4247 - val_loss: 0.6085 - val_binary_accuracy: 0.6670 - val_recall: 0.0000e+00 - val_precision: 0.0000e+00\n",
      "Epoch 2/20\n",
      "289/289 [==============================] - 1s 2ms/step - loss: 0.5998 - binary_accuracy: 0.6620 - recall: 0.0090 - precision: 0.5528 - val_loss: 0.5673 - val_binary_accuracy: 0.6891 - val_recall: 0.0729 - val_precision: 0.9180\n",
      "Epoch 3/20\n",
      "289/289 [==============================] - 1s 2ms/step - loss: 0.5487 - binary_accuracy: 0.7062 - recall: 0.1410 - precision: 0.8869 - val_loss: 0.5263 - val_binary_accuracy: 0.7493 - val_recall: 0.2956 - val_precision: 0.8598\n",
      "Epoch 4/20\n",
      "289/289 [==============================] - 1s 2ms/step - loss: 0.5023 - binary_accuracy: 0.7705 - recall: 0.4005 - precision: 0.8534 - val_loss: 0.4898 - val_binary_accuracy: 0.7944 - val_recall: 0.4948 - val_precision: 0.8155\n",
      "Epoch 5/20\n",
      "289/289 [==============================] - 1s 2ms/step - loss: 0.4524 - binary_accuracy: 0.8101 - recall: 0.5164 - precision: 0.8638 - val_loss: 0.4614 - val_binary_accuracy: 0.8083 - val_recall: 0.6224 - val_precision: 0.7587\n",
      "Epoch 6/20\n",
      "289/289 [==============================] - 1s 2ms/step - loss: 0.4085 - binary_accuracy: 0.8463 - recall: 0.6597 - precision: 0.8542 - val_loss: 0.4384 - val_binary_accuracy: 0.8118 - val_recall: 0.5378 - val_precision: 0.8394\n",
      "Epoch 7/20\n",
      "289/289 [==============================] - 1s 2ms/step - loss: 0.3765 - binary_accuracy: 0.8603 - recall: 0.6929 - precision: 0.8673 - val_loss: 0.4195 - val_binary_accuracy: 0.8283 - val_recall: 0.6654 - val_precision: 0.7862\n",
      "Epoch 8/20\n",
      "289/289 [==============================] - 1s 2ms/step - loss: 0.3406 - binary_accuracy: 0.8825 - recall: 0.7681 - precision: 0.8708 - val_loss: 0.4056 - val_binary_accuracy: 0.8313 - val_recall: 0.6862 - val_precision: 0.7807\n",
      "Epoch 9/20\n",
      "289/289 [==============================] - 1s 2ms/step - loss: 0.3106 - binary_accuracy: 0.8989 - recall: 0.7970 - precision: 0.8859 - val_loss: 0.3947 - val_binary_accuracy: 0.8387 - val_recall: 0.6966 - val_precision: 0.7938\n",
      "Epoch 10/20\n",
      "289/289 [==============================] - 1s 2ms/step - loss: 0.2973 - binary_accuracy: 0.8990 - recall: 0.8092 - precision: 0.8877 - val_loss: 0.3865 - val_binary_accuracy: 0.8430 - val_recall: 0.6693 - val_precision: 0.8264\n",
      "Epoch 11/20\n",
      "289/289 [==============================] - 1s 2ms/step - loss: 0.2734 - binary_accuracy: 0.9104 - recall: 0.8325 - precision: 0.8913 - val_loss: 0.3793 - val_binary_accuracy: 0.8430 - val_recall: 0.7031 - val_precision: 0.8012\n",
      "Epoch 12/20\n",
      "289/289 [==============================] - 1s 2ms/step - loss: 0.2490 - binary_accuracy: 0.9174 - recall: 0.8560 - precision: 0.8919 - val_loss: 0.3758 - val_binary_accuracy: 0.8448 - val_recall: 0.7565 - val_precision: 0.7726\n",
      "Epoch 13/20\n",
      "289/289 [==============================] - 1s 2ms/step - loss: 0.2380 - binary_accuracy: 0.9219 - recall: 0.8707 - precision: 0.8883 - val_loss: 0.3711 - val_binary_accuracy: 0.8465 - val_recall: 0.7318 - val_precision: 0.7915\n",
      "Epoch 14/20\n",
      "289/289 [==============================] - 1s 2ms/step - loss: 0.2230 - binary_accuracy: 0.9251 - recall: 0.8721 - precision: 0.8990 - val_loss: 0.3688 - val_binary_accuracy: 0.8487 - val_recall: 0.7357 - val_precision: 0.7947\n",
      "Epoch 15/20\n",
      "289/289 [==============================] - 1s 2ms/step - loss: 0.2122 - binary_accuracy: 0.9347 - recall: 0.8957 - precision: 0.9098 - val_loss: 0.3675 - val_binary_accuracy: 0.8504 - val_recall: 0.7331 - val_precision: 0.8009\n",
      "Epoch 16/20\n",
      "289/289 [==============================] - 1s 2ms/step - loss: 0.1929 - binary_accuracy: 0.9422 - recall: 0.9224 - precision: 0.9098 - val_loss: 0.3672 - val_binary_accuracy: 0.8487 - val_recall: 0.7513 - val_precision: 0.7850\n",
      "Epoch 17/20\n",
      "289/289 [==============================] - 1s 2ms/step - loss: 0.1822 - binary_accuracy: 0.9430 - recall: 0.9096 - precision: 0.9177 - val_loss: 0.3672 - val_binary_accuracy: 0.8517 - val_recall: 0.7513 - val_precision: 0.7926\n",
      "Epoch 18/20\n",
      "289/289 [==============================] - 1s 2ms/step - loss: 0.1753 - binary_accuracy: 0.9448 - recall: 0.9196 - precision: 0.9129 - val_loss: 0.3685 - val_binary_accuracy: 0.8508 - val_recall: 0.7552 - val_precision: 0.7880\n",
      "Epoch 19/20\n",
      "289/289 [==============================] - 1s 2ms/step - loss: 0.1678 - binary_accuracy: 0.9471 - recall: 0.9267 - precision: 0.9152 - val_loss: 0.3712 - val_binary_accuracy: 0.8517 - val_recall: 0.7214 - val_precision: 0.8123\n",
      "Epoch 20/20\n",
      "289/289 [==============================] - 1s 2ms/step - loss: 0.1545 - binary_accuracy: 0.9523 - recall: 0.9296 - precision: 0.9273 - val_loss: 0.3724 - val_binary_accuracy: 0.8504 - val_recall: 0.7669 - val_precision: 0.7801\n"
     ]
    }
   ],
   "source": [
    "epochs = 20\n",
    "history = model.fit(\n",
    "    x=X_train,\n",
    "    y=y_train,\n",
    "    epochs=epochs,\n",
    "    validation_split=0.2, # сколько от тестовой выборки отрезать под валидационную\n",
    ")"
   ]
  },
  {
   "cell_type": "code",
   "execution_count": 9,
   "metadata": {},
   "outputs": [
    {
     "name": "stdout",
     "output_type": "stream",
     "text": [
      "91/91 [==============================] - 0s 821us/step - loss: 0.3513 - binary_accuracy: 0.8647 - recall: 0.7872 - precision: 0.8006\n",
      "Loss:  0.3513270914554596\n",
      "Accuracy:  0.8647242188453674\n",
      "Recall:  0.7872117161750793\n",
      "Precision:  0.8006396293640137\n"
     ]
    }
   ],
   "source": [
    "loss, accuracy, recall, precision = model.evaluate(x=X_test, y=y_test)\n",
    "\n",
    "print(\"Loss: \", loss)\n",
    "print(\"Accuracy: \", accuracy)\n",
    "print(\"Recall: \", recall)\n",
    "print(\"Precision: \", precision)"
   ]
  },
  {
   "cell_type": "code",
   "execution_count": 10,
   "metadata": {},
   "outputs": [
    {
     "data": {
      "text/plain": [
       "<tf.Tensor: shape=(2, 2), dtype=int32, numpy=\n",
       "array([[1742,  187],\n",
       "       [ 203,  751]], dtype=int32)>"
      ]
     },
     "execution_count": 10,
     "metadata": {},
     "output_type": "execute_result"
    }
   ],
   "source": [
    "tf.math.confusion_matrix(labels=y_test, predictions=(model.predict(X_test) > 0.5) * 1)"
   ]
  }
 ],
 "metadata": {
  "kernelspec": {
   "display_name": "Python 3",
   "language": "python",
   "name": "python3"
  },
  "language_info": {
   "codemirror_mode": {
    "name": "ipython",
    "version": 3
   },
   "file_extension": ".py",
   "mimetype": "text/x-python",
   "name": "python",
   "nbconvert_exporter": "python",
   "pygments_lexer": "ipython3",
   "version": "3.8.9"
  }
 },
 "nbformat": 4,
 "nbformat_minor": 4
}
