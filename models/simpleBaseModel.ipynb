{
 "cells": [
  {
   "cell_type": "code",
   "execution_count": 1,
   "metadata": {},
   "outputs": [
    {
     "name": "stdout",
     "output_type": "stream",
     "text": [
      "/Users/n.barsukov/PycharmProjects/toxic-comments-detector\n"
     ]
    }
   ],
   "source": [
    "cd .."
   ]
  },
  {
   "cell_type": "code",
   "execution_count": 2,
   "metadata": {},
   "outputs": [
    {
     "name": "stdout",
     "output_type": "stream",
     "text": [
      "Python version: 3.8.9 (default, Apr  3 2021, 01:50:09) \n",
      "[Clang 12.0.0 (clang-1200.0.32.29)]\n",
      "Tensorflow version: 2.4.1\n"
     ]
    }
   ],
   "source": [
    "import sys\n",
    "import tensorflow as tf\n",
    "import numpy as np\n",
    "\n",
    "# local (this repo) imports\n",
    "from dev import load_cleaned_russian_text_data, SEED\n",
    "\n",
    "tf.random.set_seed(SEED)\n",
    "\n",
    "print('Python version:', sys.version)\n",
    "print('Tensorflow version:', tf.__version__)"
   ]
  },
  {
   "cell_type": "markdown",
   "metadata": {},
   "source": [
    "## Load data"
   ]
  },
  {
   "cell_type": "code",
   "execution_count": 3,
   "metadata": {},
   "outputs": [],
   "source": [
    "X_train, X_test, y_train, y_test = load_cleaned_russian_text_data()"
   ]
  },
  {
   "cell_type": "code",
   "execution_count": 4,
   "metadata": {},
   "outputs": [],
   "source": [
    "def get_3d_quartile_words_count(sentences_array):\n",
    "    \"\"\"\n",
    "    Получает массив строк/предложений.\n",
    "    Отдает число N.\n",
    "    75% всех предложений данного массива не превышают N слов в длину.\n",
    "    \"\"\"\n",
    "    def count_words(sentence):\n",
    "        return len(sentence.split(' '))\n",
    "        \n",
    "    \n",
    "    return round(\n",
    "        np.percentile(\n",
    "            list(map(count_words, sentences_array)),\n",
    "            75\n",
    "        )\n",
    "    )"
   ]
  },
  {
   "cell_type": "markdown",
   "metadata": {},
   "source": [
    "## Train model"
   ]
  },
  {
   "cell_type": "code",
   "execution_count": 5,
   "metadata": {},
   "outputs": [],
   "source": [
    "from tensorflow.keras.layers.experimental.preprocessing import TextVectorization\n",
    "from tensorflow.keras import layers, losses"
   ]
  },
  {
   "cell_type": "code",
   "execution_count": 6,
   "metadata": {},
   "outputs": [],
   "source": [
    "MAX_FEATURES = 10000\n",
    "MAX_SEQUENCE_LENGTH = get_3d_quartile_words_count(X_train.flatten())\n",
    "\n",
    "vectorize_layer = TextVectorization(\n",
    "    max_tokens=MAX_FEATURES,\n",
    "    output_mode='int',\n",
    "    output_sequence_length=MAX_SEQUENCE_LENGTH\n",
    ")\n",
    "vectorize_layer.adapt(X_train)"
   ]
  },
  {
   "cell_type": "code",
   "execution_count": 7,
   "metadata": {},
   "outputs": [],
   "source": [
    "model = tf.keras.Sequential([\n",
    "    layers.Input(shape=[], dtype=tf.string),\n",
    "    vectorize_layer,\n",
    "    layers.Embedding(\n",
    "        input_dim = len(vectorize_layer.get_vocabulary()),\n",
    "        output_dim = 16\n",
    "    ),\n",
    "    layers.Dropout(0.2),\n",
    "    layers.GlobalAveragePooling1D(),\n",
    "    layers.Dropout(0.2),\n",
    "    layers.Dense(1),\n",
    "    layers.Activation('sigmoid') # то есть в конце мы выдаем уже вероятности\n",
    "])\n",
    "\n",
    "model.compile(\n",
    "    loss=losses.BinaryCrossentropy(from_logits=False),\n",
    "    optimizer='adam',\n",
    "    metrics=[tf.keras.metrics.BinaryAccuracy(), tf.keras.metrics.Recall(), tf.keras.metrics.Precision()]\n",
    ")"
   ]
  },
  {
   "cell_type": "code",
   "execution_count": 8,
   "metadata": {},
   "outputs": [
    {
     "name": "stdout",
     "output_type": "stream",
     "text": [
      "Epoch 1/10\n",
      "73/73 [==============================] - 2s 14ms/step - loss: 0.6806 - binary_accuracy: 0.6235 - recall: 0.1069 - precision: 0.3640 - val_loss: 0.6458 - val_binary_accuracy: 0.6670 - val_recall: 0.0000e+00 - val_precision: 0.0000e+00\n",
      "Epoch 2/10\n",
      "73/73 [==============================] - 0s 3ms/step - loss: 0.6382 - binary_accuracy: 0.6604 - recall: 0.0000e+00 - precision: 0.0000e+00 - val_loss: 0.6142 - val_binary_accuracy: 0.6670 - val_recall: 0.0000e+00 - val_precision: 0.0000e+00\n",
      "Epoch 3/10\n",
      "73/73 [==============================] - 0s 3ms/step - loss: 0.6052 - binary_accuracy: 0.6659 - recall: 1.1015e-04 - precision: 0.2973 - val_loss: 0.5862 - val_binary_accuracy: 0.6670 - val_recall: 0.0000e+00 - val_precision: 0.0000e+00\n",
      "Epoch 4/10\n",
      "73/73 [==============================] - 0s 3ms/step - loss: 0.5795 - binary_accuracy: 0.6593 - recall: 0.0061 - precision: 0.9595 - val_loss: 0.5613 - val_binary_accuracy: 0.6748 - val_recall: 0.0260 - val_precision: 0.9091\n",
      "Epoch 5/10\n",
      "73/73 [==============================] - 0s 3ms/step - loss: 0.5510 - binary_accuracy: 0.6807 - recall: 0.0524 - precision: 0.9449 - val_loss: 0.5389 - val_binary_accuracy: 0.7151 - val_recall: 0.1615 - val_precision: 0.9051\n",
      "Epoch 6/10\n",
      "73/73 [==============================] - 0s 4ms/step - loss: 0.5254 - binary_accuracy: 0.7341 - recall: 0.2404 - precision: 0.9061 - val_loss: 0.5177 - val_binary_accuracy: 0.7589 - val_recall: 0.3112 - val_precision: 0.8985\n",
      "Epoch 7/10\n",
      "73/73 [==============================] - 0s 3ms/step - loss: 0.5003 - binary_accuracy: 0.7678 - recall: 0.3444 - precision: 0.9151 - val_loss: 0.4973 - val_binary_accuracy: 0.7741 - val_recall: 0.3776 - val_precision: 0.8709\n",
      "Epoch 8/10\n",
      "73/73 [==============================] - 0s 4ms/step - loss: 0.4756 - binary_accuracy: 0.7949 - recall: 0.4493 - precision: 0.8943 - val_loss: 0.4778 - val_binary_accuracy: 0.7992 - val_recall: 0.4688 - val_precision: 0.8675\n",
      "Epoch 9/10\n",
      "73/73 [==============================] - 0s 4ms/step - loss: 0.4477 - binary_accuracy: 0.8185 - recall: 0.5061 - precision: 0.9010 - val_loss: 0.4597 - val_binary_accuracy: 0.8118 - val_recall: 0.5143 - val_precision: 0.8662\n",
      "Epoch 10/10\n",
      "73/73 [==============================] - 0s 3ms/step - loss: 0.4350 - binary_accuracy: 0.8234 - recall: 0.5363 - precision: 0.9169 - val_loss: 0.4432 - val_binary_accuracy: 0.8213 - val_recall: 0.5534 - val_precision: 0.8603\n"
     ]
    }
   ],
   "source": [
    "epochs = 10\n",
    "history = model.fit(\n",
    "    x=X_train,\n",
    "    y=y_train,\n",
    "    epochs=epochs,\n",
    "    batch_size=2**7,\n",
    "    validation_split=0.2, # сколько от тестовой выборки отрезать под валидационную\n",
    ")"
   ]
  },
  {
   "cell_type": "code",
   "execution_count": 9,
   "metadata": {},
   "outputs": [
    {
     "name": "stdout",
     "output_type": "stream",
     "text": [
      "91/91 [==============================] - 0s 761us/step - loss: 0.4353 - binary_accuracy: 0.8456 - recall: 0.6226 - precision: 0.8748\n",
      "Loss:  0.4352737367153168\n",
      "Accuracy:  0.8456469178199768\n",
      "Recall:  0.6226415038108826\n",
      "Precision:  0.8748158812522888\n"
     ]
    }
   ],
   "source": [
    "loss, accuracy, recall, precision = model.evaluate(x=X_test, y=y_test)\n",
    "\n",
    "print(\"Loss: \", loss)\n",
    "print(\"Accuracy: \", accuracy)\n",
    "print(\"Recall: \", recall)\n",
    "print(\"Precision: \", precision)"
   ]
  },
  {
   "cell_type": "code",
   "execution_count": 10,
   "metadata": {},
   "outputs": [
    {
     "data": {
      "text/plain": [
       "<tf.Tensor: shape=(2, 2), dtype=int32, numpy=\n",
       "array([[1844,   85],\n",
       "       [ 360,  594]], dtype=int32)>"
      ]
     },
     "execution_count": 10,
     "metadata": {},
     "output_type": "execute_result"
    }
   ],
   "source": [
    "tf.math.confusion_matrix(labels=y_test, predictions=(model.predict(X_test) > 0.5) * 1)"
   ]
  }
 ],
 "metadata": {
  "kernelspec": {
   "display_name": "Python 3",
   "language": "python",
   "name": "python3"
  },
  "language_info": {
   "codemirror_mode": {
    "name": "ipython",
    "version": 3
   },
   "file_extension": ".py",
   "mimetype": "text/x-python",
   "name": "python",
   "nbconvert_exporter": "python",
   "pygments_lexer": "ipython3",
   "version": "3.8.9"
  }
 },
 "nbformat": 4,
 "nbformat_minor": 4
}
